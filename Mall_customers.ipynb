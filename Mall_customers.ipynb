{
 "cells": [
  {
   "cell_type": "code",
   "execution_count": 1,
   "metadata": {},
   "outputs": [],
   "source": [
    "import pandas as pd"
   ]
  },
  {
   "cell_type": "code",
   "execution_count": 2,
   "metadata": {},
   "outputs": [],
   "source": [
    "df = pd.read_csv('Mall_Customers.csv', index_col = 'CustomerID')"
   ]
  },
  {
   "cell_type": "code",
   "execution_count": 3,
   "metadata": {},
   "outputs": [
    {
     "data": {
      "text/html": [
       "<div>\n",
       "<style scoped>\n",
       "    .dataframe tbody tr th:only-of-type {\n",
       "        vertical-align: middle;\n",
       "    }\n",
       "\n",
       "    .dataframe tbody tr th {\n",
       "        vertical-align: top;\n",
       "    }\n",
       "\n",
       "    .dataframe thead th {\n",
       "        text-align: right;\n",
       "    }\n",
       "</style>\n",
       "<table border=\"1\" class=\"dataframe\">\n",
       "  <thead>\n",
       "    <tr style=\"text-align: right;\">\n",
       "      <th></th>\n",
       "      <th>Genre</th>\n",
       "      <th>Age</th>\n",
       "      <th>Annual Income (k$)</th>\n",
       "      <th>Spending Score (1-100)</th>\n",
       "    </tr>\n",
       "    <tr>\n",
       "      <th>CustomerID</th>\n",
       "      <th></th>\n",
       "      <th></th>\n",
       "      <th></th>\n",
       "      <th></th>\n",
       "    </tr>\n",
       "  </thead>\n",
       "  <tbody>\n",
       "    <tr>\n",
       "      <th>1</th>\n",
       "      <td>Male</td>\n",
       "      <td>19</td>\n",
       "      <td>15</td>\n",
       "      <td>39</td>\n",
       "    </tr>\n",
       "    <tr>\n",
       "      <th>2</th>\n",
       "      <td>Male</td>\n",
       "      <td>21</td>\n",
       "      <td>15</td>\n",
       "      <td>81</td>\n",
       "    </tr>\n",
       "    <tr>\n",
       "      <th>3</th>\n",
       "      <td>Female</td>\n",
       "      <td>20</td>\n",
       "      <td>16</td>\n",
       "      <td>6</td>\n",
       "    </tr>\n",
       "    <tr>\n",
       "      <th>4</th>\n",
       "      <td>Female</td>\n",
       "      <td>23</td>\n",
       "      <td>16</td>\n",
       "      <td>77</td>\n",
       "    </tr>\n",
       "    <tr>\n",
       "      <th>5</th>\n",
       "      <td>Female</td>\n",
       "      <td>31</td>\n",
       "      <td>17</td>\n",
       "      <td>40</td>\n",
       "    </tr>\n",
       "  </tbody>\n",
       "</table>\n",
       "</div>"
      ],
      "text/plain": [
       "             Genre  Age  Annual Income (k$)  Spending Score (1-100)\n",
       "CustomerID                                                         \n",
       "1             Male   19                  15                      39\n",
       "2             Male   21                  15                      81\n",
       "3           Female   20                  16                       6\n",
       "4           Female   23                  16                      77\n",
       "5           Female   31                  17                      40"
      ]
     },
     "execution_count": 3,
     "metadata": {},
     "output_type": "execute_result"
    }
   ],
   "source": [
    "df.head()"
   ]
  },
  {
   "cell_type": "code",
   "execution_count": 4,
   "metadata": {},
   "outputs": [
    {
     "data": {
      "text/plain": [
       "(200, 4)"
      ]
     },
     "execution_count": 4,
     "metadata": {},
     "output_type": "execute_result"
    }
   ],
   "source": [
    "df.shape"
   ]
  },
  {
   "cell_type": "code",
   "execution_count": 5,
   "metadata": {},
   "outputs": [
    {
     "name": "stdout",
     "output_type": "stream",
     "text": [
      "<class 'pandas.core.frame.DataFrame'>\n",
      "Int64Index: 200 entries, 1 to 200\n",
      "Data columns (total 4 columns):\n",
      " #   Column                  Non-Null Count  Dtype \n",
      "---  ------                  --------------  ----- \n",
      " 0   Genre                   200 non-null    object\n",
      " 1   Age                     200 non-null    int64 \n",
      " 2   Annual Income (k$)      200 non-null    int64 \n",
      " 3   Spending Score (1-100)  200 non-null    int64 \n",
      "dtypes: int64(3), object(1)\n",
      "memory usage: 7.8+ KB\n"
     ]
    }
   ],
   "source": [
    "df.info()"
   ]
  },
  {
   "cell_type": "code",
   "execution_count": 6,
   "metadata": {},
   "outputs": [
    {
     "data": {
      "text/html": [
       "<div>\n",
       "<style scoped>\n",
       "    .dataframe tbody tr th:only-of-type {\n",
       "        vertical-align: middle;\n",
       "    }\n",
       "\n",
       "    .dataframe tbody tr th {\n",
       "        vertical-align: top;\n",
       "    }\n",
       "\n",
       "    .dataframe thead th {\n",
       "        text-align: right;\n",
       "    }\n",
       "</style>\n",
       "<table border=\"1\" class=\"dataframe\">\n",
       "  <thead>\n",
       "    <tr style=\"text-align: right;\">\n",
       "      <th></th>\n",
       "      <th>Age</th>\n",
       "      <th>Annual Income (k$)</th>\n",
       "      <th>Spending Score (1-100)</th>\n",
       "    </tr>\n",
       "  </thead>\n",
       "  <tbody>\n",
       "    <tr>\n",
       "      <th>count</th>\n",
       "      <td>200.000000</td>\n",
       "      <td>200.000000</td>\n",
       "      <td>200.000000</td>\n",
       "    </tr>\n",
       "    <tr>\n",
       "      <th>mean</th>\n",
       "      <td>38.850000</td>\n",
       "      <td>60.560000</td>\n",
       "      <td>50.200000</td>\n",
       "    </tr>\n",
       "    <tr>\n",
       "      <th>std</th>\n",
       "      <td>13.969007</td>\n",
       "      <td>26.264721</td>\n",
       "      <td>25.823522</td>\n",
       "    </tr>\n",
       "    <tr>\n",
       "      <th>min</th>\n",
       "      <td>18.000000</td>\n",
       "      <td>15.000000</td>\n",
       "      <td>1.000000</td>\n",
       "    </tr>\n",
       "    <tr>\n",
       "      <th>25%</th>\n",
       "      <td>28.750000</td>\n",
       "      <td>41.500000</td>\n",
       "      <td>34.750000</td>\n",
       "    </tr>\n",
       "    <tr>\n",
       "      <th>50%</th>\n",
       "      <td>36.000000</td>\n",
       "      <td>61.500000</td>\n",
       "      <td>50.000000</td>\n",
       "    </tr>\n",
       "    <tr>\n",
       "      <th>75%</th>\n",
       "      <td>49.000000</td>\n",
       "      <td>78.000000</td>\n",
       "      <td>73.000000</td>\n",
       "    </tr>\n",
       "    <tr>\n",
       "      <th>max</th>\n",
       "      <td>70.000000</td>\n",
       "      <td>137.000000</td>\n",
       "      <td>99.000000</td>\n",
       "    </tr>\n",
       "  </tbody>\n",
       "</table>\n",
       "</div>"
      ],
      "text/plain": [
       "              Age  Annual Income (k$)  Spending Score (1-100)\n",
       "count  200.000000          200.000000              200.000000\n",
       "mean    38.850000           60.560000               50.200000\n",
       "std     13.969007           26.264721               25.823522\n",
       "min     18.000000           15.000000                1.000000\n",
       "25%     28.750000           41.500000               34.750000\n",
       "50%     36.000000           61.500000               50.000000\n",
       "75%     49.000000           78.000000               73.000000\n",
       "max     70.000000          137.000000               99.000000"
      ]
     },
     "execution_count": 6,
     "metadata": {},
     "output_type": "execute_result"
    }
   ],
   "source": [
    "df.describe()"
   ]
  },
  {
   "cell_type": "code",
   "execution_count": 7,
   "metadata": {},
   "outputs": [],
   "source": [
    "df = df.rename(columns={'Genre':'Gender'})"
   ]
  },
  {
   "cell_type": "code",
   "execution_count": 8,
   "metadata": {},
   "outputs": [
    {
     "data": {
      "text/plain": [
       "(200, 4)"
      ]
     },
     "execution_count": 8,
     "metadata": {},
     "output_type": "execute_result"
    }
   ],
   "source": [
    "df.shape"
   ]
  },
  {
   "cell_type": "code",
   "execution_count": 9,
   "metadata": {},
   "outputs": [],
   "source": [
    "df = df.rename(columns={'Annual Income (k$)':'Annual Income'})"
   ]
  },
  {
   "cell_type": "code",
   "execution_count": 10,
   "metadata": {},
   "outputs": [],
   "source": [
    "df = df.rename(columns={'Spending Score (1-100)':'Spending Score'})"
   ]
  },
  {
   "cell_type": "code",
   "execution_count": 11,
   "metadata": {},
   "outputs": [
    {
     "data": {
      "text/plain": [
       "(200, 4)"
      ]
     },
     "execution_count": 11,
     "metadata": {},
     "output_type": "execute_result"
    }
   ],
   "source": [
    "df.shape"
   ]
  },
  {
   "cell_type": "code",
   "execution_count": 12,
   "metadata": {},
   "outputs": [
    {
     "data": {
      "text/plain": [
       "<matplotlib.axes._subplots.AxesSubplot at 0x1954fbfba90>"
      ]
     },
     "execution_count": 12,
     "metadata": {},
     "output_type": "execute_result"
    },
    {
     "data": {
      "image/png": "[encoded data removed]",
      "text/plain": [
       "<Figure size 432x288 with 1 Axes>"
      ]
     },
     "metadata": {
      "needs_background": "light"
     },
     "output_type": "display_data"
    }
   ],
   "source": [
    "import seaborn as sns\n",
    "sns.boxplot(x=df['Age'])"
   ]
  },
  {
   "cell_type": "code",
   "execution_count": 13,
   "metadata": {},
   "outputs": [
    {
     "data": {
      "text/plain": [
       "<matplotlib.axes._subplots.AxesSubplot at 0x19550349d00>"
      ]
     },
     "execution_count": 13,
     "metadata": {},
     "output_type": "execute_result"
    },
    {
     "data": {
      "image/png": "[encoded data removed]",
      "text/plain": [
       "<Figure size 432x288 with 1 Axes>"
      ]
     },
     "metadata": {
      "needs_background": "light"
     },
     "output_type": "display_data"
    }
   ],
   "source": [
    "sns.boxplot(x=df['Annual Income'])"
   ]
  },
  {
   "cell_type": "code",
   "execution_count": 14,
   "metadata": {},
   "outputs": [
    {
     "data": {
      "text/plain": [
       "(200, 4)"
      ]
     },
     "execution_count": 14,
     "metadata": {},
     "output_type": "execute_result"
    }
   ],
   "source": [
    "df.shape"
   ]
  },
  {
   "cell_type": "code",
   "execution_count": 15,
   "metadata": {},
   "outputs": [],
   "source": [
    "df = df[df['Annual Income'] < 137]"
   ]
  },
  {
   "cell_type": "code",
   "execution_count": 16,
   "metadata": {},
   "outputs": [
    {
     "data": {
      "text/plain": [
       "(198, 4)"
      ]
     },
     "execution_count": 16,
     "metadata": {},
     "output_type": "execute_result"
    }
   ],
   "source": [
    "df.shape"
   ]
  },
  {
   "cell_type": "code",
   "execution_count": 17,
   "metadata": {},
   "outputs": [
    {
     "data": {
      "text/plain": [
       "<matplotlib.axes._subplots.AxesSubplot at 0x195503b6790>"
      ]
     },
     "execution_count": 17,
     "metadata": {},
     "output_type": "execute_result"
    },
    {
     "data": {
      "image/png": "[encoded data removed]",
      "text/plain": [
       "<Figure size 432x288 with 1 Axes>"
      ]
     },
     "metadata": {
      "needs_background": "light"
     },
     "output_type": "display_data"
    }
   ],
   "source": [
    "sns.boxplot(x=df['Annual Income'])"
   ]
  },
  {
   "cell_type": "code",
   "execution_count": 18,
   "metadata": {},
   "outputs": [
    {
     "data": {
      "text/plain": [
       "<matplotlib.axes._subplots.AxesSubplot at 0x195504108e0>"
      ]
     },
     "execution_count": 18,
     "metadata": {},
     "output_type": "execute_result"
    },
    {
     "data": {
      "image/png": "[encoded data removed]",
      "text/plain": [
       "<Figure size 432x288 with 1 Axes>"
      ]
     },
     "metadata": {
      "needs_background": "light"
     },
     "output_type": "display_data"
    }
   ],
   "source": [
    "sns.boxplot(x=df['Spending Score'])"
   ]
  },
  {
   "cell_type": "code",
   "execution_count": 19,
   "metadata": {},
   "outputs": [],
   "source": [
    "df = pd.get_dummies(df, drop_first=True)"
   ]
  },
  {
   "cell_type": "code",
   "execution_count": 20,
   "metadata": {},
   "outputs": [
    {
     "data": {
      "text/plain": [
       "(198, 4)"
      ]
     },
     "execution_count": 20,
     "metadata": {},
     "output_type": "execute_result"
    }
   ],
   "source": [
    "df.shape"
   ]
  },
  {
   "cell_type": "code",
   "execution_count": 21,
   "metadata": {},
   "outputs": [
    {
     "data": {
      "text/html": [
       "<div>\n",
       "<style scoped>\n",
       "    .dataframe tbody tr th:only-of-type {\n",
       "        vertical-align: middle;\n",
       "    }\n",
       "\n",
       "    .dataframe tbody tr th {\n",
       "        vertical-align: top;\n",
       "    }\n",
       "\n",
       "    .dataframe thead th {\n",
       "        text-align: right;\n",
       "    }\n",
       "</style>\n",
       "<table border=\"1\" class=\"dataframe\">\n",
       "  <thead>\n",
       "    <tr style=\"text-align: right;\">\n",
       "      <th></th>\n",
       "      <th>Age</th>\n",
       "      <th>Annual Income</th>\n",
       "      <th>Spending Score</th>\n",
       "      <th>Gender_Male</th>\n",
       "    </tr>\n",
       "    <tr>\n",
       "      <th>CustomerID</th>\n",
       "      <th></th>\n",
       "      <th></th>\n",
       "      <th></th>\n",
       "      <th></th>\n",
       "    </tr>\n",
       "  </thead>\n",
       "  <tbody>\n",
       "    <tr>\n",
       "      <th>1</th>\n",
       "      <td>19</td>\n",
       "      <td>15</td>\n",
       "      <td>39</td>\n",
       "      <td>1</td>\n",
       "    </tr>\n",
       "    <tr>\n",
       "      <th>2</th>\n",
       "      <td>21</td>\n",
       "      <td>15</td>\n",
       "      <td>81</td>\n",
       "      <td>1</td>\n",
       "    </tr>\n",
       "    <tr>\n",
       "      <th>3</th>\n",
       "      <td>20</td>\n",
       "      <td>16</td>\n",
       "      <td>6</td>\n",
       "      <td>0</td>\n",
       "    </tr>\n",
       "    <tr>\n",
       "      <th>4</th>\n",
       "      <td>23</td>\n",
       "      <td>16</td>\n",
       "      <td>77</td>\n",
       "      <td>0</td>\n",
       "    </tr>\n",
       "    <tr>\n",
       "      <th>5</th>\n",
       "      <td>31</td>\n",
       "      <td>17</td>\n",
       "      <td>40</td>\n",
       "      <td>0</td>\n",
       "    </tr>\n",
       "    <tr>\n",
       "      <th>6</th>\n",
       "      <td>22</td>\n",
       "      <td>17</td>\n",
       "      <td>76</td>\n",
       "      <td>0</td>\n",
       "    </tr>\n",
       "    <tr>\n",
       "      <th>7</th>\n",
       "      <td>35</td>\n",
       "      <td>18</td>\n",
       "      <td>6</td>\n",
       "      <td>0</td>\n",
       "    </tr>\n",
       "    <tr>\n",
       "      <th>8</th>\n",
       "      <td>23</td>\n",
       "      <td>18</td>\n",
       "      <td>94</td>\n",
       "      <td>0</td>\n",
       "    </tr>\n",
       "    <tr>\n",
       "      <th>9</th>\n",
       "      <td>64</td>\n",
       "      <td>19</td>\n",
       "      <td>3</td>\n",
       "      <td>1</td>\n",
       "    </tr>\n",
       "    <tr>\n",
       "      <th>10</th>\n",
       "      <td>30</td>\n",
       "      <td>19</td>\n",
       "      <td>72</td>\n",
       "      <td>0</td>\n",
       "    </tr>\n",
       "    <tr>\n",
       "      <th>11</th>\n",
       "      <td>67</td>\n",
       "      <td>19</td>\n",
       "      <td>14</td>\n",
       "      <td>1</td>\n",
       "    </tr>\n",
       "    <tr>\n",
       "      <th>12</th>\n",
       "      <td>35</td>\n",
       "      <td>19</td>\n",
       "      <td>99</td>\n",
       "      <td>0</td>\n",
       "    </tr>\n",
       "    <tr>\n",
       "      <th>13</th>\n",
       "      <td>58</td>\n",
       "      <td>20</td>\n",
       "      <td>15</td>\n",
       "      <td>0</td>\n",
       "    </tr>\n",
       "    <tr>\n",
       "      <th>14</th>\n",
       "      <td>24</td>\n",
       "      <td>20</td>\n",
       "      <td>77</td>\n",
       "      <td>0</td>\n",
       "    </tr>\n",
       "    <tr>\n",
       "      <th>15</th>\n",
       "      <td>37</td>\n",
       "      <td>20</td>\n",
       "      <td>13</td>\n",
       "      <td>1</td>\n",
       "    </tr>\n",
       "    <tr>\n",
       "      <th>16</th>\n",
       "      <td>22</td>\n",
       "      <td>20</td>\n",
       "      <td>79</td>\n",
       "      <td>1</td>\n",
       "    </tr>\n",
       "    <tr>\n",
       "      <th>17</th>\n",
       "      <td>35</td>\n",
       "      <td>21</td>\n",
       "      <td>35</td>\n",
       "      <td>0</td>\n",
       "    </tr>\n",
       "    <tr>\n",
       "      <th>18</th>\n",
       "      <td>20</td>\n",
       "      <td>21</td>\n",
       "      <td>66</td>\n",
       "      <td>1</td>\n",
       "    </tr>\n",
       "    <tr>\n",
       "      <th>19</th>\n",
       "      <td>52</td>\n",
       "      <td>23</td>\n",
       "      <td>29</td>\n",
       "      <td>1</td>\n",
       "    </tr>\n",
       "    <tr>\n",
       "      <th>20</th>\n",
       "      <td>35</td>\n",
       "      <td>23</td>\n",
       "      <td>98</td>\n",
       "      <td>0</td>\n",
       "    </tr>\n",
       "  </tbody>\n",
       "</table>\n",
       "</div>"
      ],
      "text/plain": [
       "            Age  Annual Income  Spending Score  Gender_Male\n",
       "CustomerID                                                 \n",
       "1            19             15              39            1\n",
       "2            21             15              81            1\n",
       "3            20             16               6            0\n",
       "4            23             16              77            0\n",
       "5            31             17              40            0\n",
       "6            22             17              76            0\n",
       "7            35             18               6            0\n",
       "8            23             18              94            0\n",
       "9            64             19               3            1\n",
       "10           30             19              72            0\n",
       "11           67             19              14            1\n",
       "12           35             19              99            0\n",
       "13           58             20              15            0\n",
       "14           24             20              77            0\n",
       "15           37             20              13            1\n",
       "16           22             20              79            1\n",
       "17           35             21              35            0\n",
       "18           20             21              66            1\n",
       "19           52             23              29            1\n",
       "20           35             23              98            0"
      ]
     },
     "execution_count": 21,
     "metadata": {},
     "output_type": "execute_result"
    }
   ],
   "source": [
    "df.head(20)"
   ]
  },
  {
   "cell_type": "code",
   "execution_count": 22,
   "metadata": {},
   "outputs": [],
   "source": [
    "from sklearn.preprocessing import StandardScaler"
   ]
  },
  {
   "cell_type": "code",
   "execution_count": 23,
   "metadata": {},
   "outputs": [],
   "source": [
    "sc = StandardScaler()\n",
    "df = sc.fit_transform(df)"
   ]
  },
  {
   "cell_type": "code",
   "execution_count": 24,
   "metadata": {},
   "outputs": [
    {
     "data": {
      "text/plain": [
       "array([[-1.42541358, -1.77917141, -0.43598941,  1.1411948 ],\n",
       "       [-1.2823665 , -1.77917141,  1.19941337,  1.1411948 ],\n",
       "       [-1.35389004, -1.73944701, -1.72094874, -0.87627458],\n",
       "       [-1.13931942, -1.73944701,  1.04366072, -0.87627458],\n",
       "       [-0.5671311 , -1.69972262, -0.39705125, -0.87627458],\n",
       "       [-1.21084296, -1.69972262,  1.00472256, -0.87627458],\n",
       "       [-0.28103694, -1.65999822, -1.72094874, -0.87627458],\n",
       "       [-1.13931942, -1.65999822,  1.70560947, -0.87627458],\n",
       "       [ 1.79314572, -1.62027383, -1.83776323,  1.1411948 ],\n",
       "       [-0.63865464, -1.62027383,  0.84896992, -0.87627458],\n",
       "       [ 2.00771635, -1.62027383, -1.40944345,  1.1411948 ],\n",
       "       [-0.28103694, -1.62027383,  1.90030028, -0.87627458],\n",
       "       [ 1.36400448, -1.58054943, -1.37050529, -0.87627458],\n",
       "       [-1.06779588, -1.58054943,  1.04366072, -0.87627458],\n",
       "       [-0.13798986, -1.58054943, -1.44838161,  1.1411948 ],\n",
       "       [-1.21084296, -1.58054943,  1.12153705,  1.1411948 ],\n",
       "       [-0.28103694, -1.54082504, -0.59174206, -0.87627458],\n",
       "       [-1.35389004, -1.54082504,  0.61534095,  1.1411948 ],\n",
       "       [ 0.93486324, -1.46137625, -0.82537103,  1.1411948 ],\n",
       "       [-0.28103694, -1.46137625,  1.86136212, -0.87627458],\n",
       "       [-0.28103694, -1.42165185, -0.59174206,  1.1411948 ],\n",
       "       [-0.99627234, -1.42165185,  0.88790808,  1.1411948 ],\n",
       "       [ 0.505722  , -1.38192745, -1.75988691, -0.87627458],\n",
       "       [-0.5671311 , -1.38192745,  0.88790808,  1.1411948 ],\n",
       "       [ 1.07791032, -1.26275427, -1.40944345, -0.87627458],\n",
       "       [-0.71017818, -1.26275427,  1.23835153,  1.1411948 ],\n",
       "       [ 0.43419846, -1.26275427, -0.70855655, -0.87627458],\n",
       "       [-0.28103694, -1.26275427,  0.42065014,  1.1411948 ],\n",
       "       [ 0.07658076, -1.22302987, -0.74749471, -0.87627458],\n",
       "       [-1.13931942, -1.22302987,  1.43304234, -0.87627458],\n",
       "       [ 1.50705156, -1.18330548, -1.79882507,  1.1411948 ],\n",
       "       [-1.2823665 , -1.18330548,  0.88790808, -0.87627458],\n",
       "       [ 1.00638678, -1.06413229, -1.79882507,  1.1411948 ],\n",
       "       [-1.49693712, -1.06413229,  1.62773315,  1.1411948 ],\n",
       "       [ 0.72029262, -1.06413229, -1.40944345, -0.87627458],\n",
       "       [-1.2823665 , -1.06413229,  1.19941337, -0.87627458],\n",
       "       [ 0.21962784, -1.0244079 , -1.29262897, -0.87627458],\n",
       "       [-0.63865464, -1.0244079 ,  0.88790808, -0.87627458],\n",
       "       [-0.2095134 , -0.90523471, -0.94218551, -0.87627458],\n",
       "       [-1.35389004, -0.90523471,  0.9657844 , -0.87627458],\n",
       "       [ 1.86466927, -0.86551031, -0.59174206, -0.87627458],\n",
       "       [-1.06779588, -0.86551031,  1.62773315,  1.1411948 ],\n",
       "       [ 0.64876908, -0.82578592, -0.5528039 ,  1.1411948 ],\n",
       "       [-0.5671311 , -0.82578592,  0.42065014, -0.87627458],\n",
       "       [ 0.72029262, -0.82578592, -0.86430919, -0.87627458],\n",
       "       [-1.06779588, -0.82578592,  0.57640278, -0.87627458],\n",
       "       [ 0.79181616, -0.78606152,  0.18702117, -0.87627458],\n",
       "       [-0.85322526, -0.78606152, -0.12448412, -0.87627458],\n",
       "       [-0.71017818, -0.78606152, -0.31917493, -0.87627458],\n",
       "       [-0.5671311 , -0.78606152, -0.31917493, -0.87627458],\n",
       "       [ 0.72029262, -0.70661273,  0.07020669, -0.87627458],\n",
       "       [-0.42408402, -0.70661273,  0.38171198,  1.1411948 ],\n",
       "       [-0.5671311 , -0.66688834,  0.14808301, -0.87627458],\n",
       "       [ 1.43552802, -0.66688834,  0.38171198,  1.1411948 ],\n",
       "       [ 0.79181616, -0.66688834, -0.20236045, -0.87627458],\n",
       "       [ 0.57724554, -0.66688834, -0.35811309,  1.1411948 ],\n",
       "       [ 0.8633397 , -0.62716394, -0.00766964, -0.87627458],\n",
       "       [ 2.15076343, -0.62716394, -0.16342228,  1.1411948 ],\n",
       "       [-0.85322526, -0.54771515,  0.03126852, -0.87627458],\n",
       "       [ 1.00638678, -0.54771515, -0.16342228,  1.1411948 ],\n",
       "       [ 2.22228697, -0.54771515,  0.22595933,  1.1411948 ],\n",
       "       [-1.42541358, -0.54771515,  0.18702117,  1.1411948 ],\n",
       "       [ 2.00771635, -0.50799075,  0.07020669, -0.87627458],\n",
       "       [ 1.07791032, -0.50799075,  0.34277382, -0.87627458],\n",
       "       [ 1.72162218, -0.46826636,  0.03126852,  1.1411948 ],\n",
       "       [-1.49693712, -0.46826636,  0.34277382,  1.1411948 ],\n",
       "       [ 0.29115138, -0.46826636, -0.00766964, -0.87627458],\n",
       "       [ 2.07923989, -0.46826636, -0.08554596, -0.87627458],\n",
       "       [-1.42541358, -0.46826636,  0.34277382,  1.1411948 ],\n",
       "       [-0.49560756, -0.46826636, -0.12448412, -0.87627458],\n",
       "       [ 2.22228697, -0.42854196,  0.18702117,  1.1411948 ],\n",
       "       [ 0.57724554, -0.42854196, -0.31917493, -0.87627458],\n",
       "       [ 1.50705156, -0.38881757, -0.0466078 , -0.87627458],\n",
       "       [ 1.50705156, -0.38881757,  0.22595933, -0.87627458],\n",
       "       [ 1.43552802, -0.22991999, -0.12448412,  1.1411948 ],\n",
       "       [-0.9247488 , -0.22991999,  0.14808301,  1.1411948 ],\n",
       "       [ 0.43419846, -0.22991999,  0.10914485, -0.87627458],\n",
       "       [ 0.07658076, -0.22991999, -0.08554596,  1.1411948 ],\n",
       "       [-1.13931942, -0.22991999,  0.07020669, -0.87627458],\n",
       "       [ 0.72029262, -0.22991999, -0.31917493, -0.87627458],\n",
       "       [ 1.29248094, -0.22991999,  0.03126852,  1.1411948 ],\n",
       "       [-0.06646632, -0.22991999,  0.18702117,  1.1411948 ],\n",
       "       [ 2.00771635, -0.22991999, -0.35811309,  1.1411948 ],\n",
       "       [ 0.505722  , -0.22991999, -0.24129861, -0.87627458],\n",
       "       [-1.2823665 , -0.22991999,  0.26489749, -0.87627458],\n",
       "       [ 0.64876908, -0.22991999, -0.16342228,  1.1411948 ],\n",
       "       [ 1.14943386, -0.1107468 ,  0.30383565, -0.87627458],\n",
       "       [-1.21084296, -0.1107468 ,  0.18702117, -0.87627458],\n",
       "       [-0.35256048, -0.0710224 ,  0.38171198, -0.87627458],\n",
       "       [ 0.79181616, -0.0710224 , -0.16342228, -0.87627458],\n",
       "       [ 2.07923989, -0.03129801,  0.18702117, -0.87627458],\n",
       "       [-1.49693712, -0.03129801, -0.35811309,  1.1411948 ],\n",
       "       [ 0.64876908,  0.00842639, -0.0466078 ,  1.1411948 ],\n",
       "       [ 0.07658076,  0.00842639, -0.39705125, -0.87627458],\n",
       "       [-0.49560756,  0.00842639, -0.31917493, -0.87627458],\n",
       "       [-1.06779588,  0.00842639,  0.07020669,  1.1411948 ],\n",
       "       [ 0.57724554,  0.00842639, -0.12448412, -0.87627458],\n",
       "       [-0.85322526,  0.00842639, -0.00766964, -0.87627458],\n",
       "       [ 0.64876908,  0.04815078, -0.31917493,  1.1411948 ],\n",
       "       [-1.35389004,  0.04815078, -0.0466078 ,  1.1411948 ],\n",
       "       [-1.13931942,  0.08787518, -0.35811309, -0.87627458],\n",
       "       [ 0.72029262,  0.08787518, -0.08554596, -0.87627458],\n",
       "       [ 2.00771635,  0.08787518,  0.34277382,  1.1411948 ],\n",
       "       [-0.9247488 ,  0.08787518,  0.18702117,  1.1411948 ],\n",
       "       [ 0.72029262,  0.08787518,  0.22595933,  1.1411948 ],\n",
       "       [-1.2823665 ,  0.08787518, -0.31917493, -0.87627458],\n",
       "       [ 1.93619281,  0.12759957, -0.00766964, -0.87627458],\n",
       "       [ 1.07791032,  0.12759957, -0.16342228,  1.1411948 ],\n",
       "       [ 2.07923989,  0.12759957, -0.28023677,  1.1411948 ],\n",
       "       [ 1.93619281,  0.12759957, -0.08554596,  1.1411948 ],\n",
       "       [ 1.86466927,  0.12759957,  0.07020669,  1.1411948 ],\n",
       "       [-1.42541358,  0.12759957,  0.14808301, -0.87627458],\n",
       "       [-0.06646632,  0.16732397, -0.31917493, -0.87627458],\n",
       "       [-1.42541358,  0.16732397, -0.16342228,  1.1411948 ],\n",
       "       [-1.49693712,  0.20704836, -0.08554596, -0.87627458],\n",
       "       [-1.42541358,  0.20704836, -0.00766964, -0.87627458],\n",
       "       [ 1.72162218,  0.20704836, -0.28023677, -0.87627458],\n",
       "       [ 0.72029262,  0.20704836,  0.34277382, -0.87627458],\n",
       "       [ 0.8633397 ,  0.28649716, -0.28023677, -0.87627458],\n",
       "       [ 0.79181616,  0.28649716,  0.26489749, -0.87627458],\n",
       "       [-0.85322526,  0.28649716,  0.22595933,  1.1411948 ],\n",
       "       [-0.06646632,  0.28649716, -0.39705125, -0.87627458],\n",
       "       [ 0.07658076,  0.36594595,  0.30383565, -0.87627458],\n",
       "       [ 0.00505722,  0.36594595,  1.58879498,  1.1411948 ],\n",
       "       [-1.13931942,  0.40567034, -0.82537103, -0.87627458],\n",
       "       [-0.5671311 ,  0.40567034,  1.04366072, -0.87627458],\n",
       "       [ 0.29115138,  0.44539474, -0.59174206,  1.1411948 ],\n",
       "       [ 0.07658076,  0.44539474,  1.74454763,  1.1411948 ],\n",
       "       [ 1.43552802,  0.44539474, -1.52625794,  1.1411948 ],\n",
       "       [-0.06646632,  0.44539474,  0.9657844 ,  1.1411948 ],\n",
       "       [ 0.57724554,  0.44539474, -1.60413426,  1.1411948 ],\n",
       "       [ 0.00505722,  0.44539474,  0.9657844 ,  1.1411948 ],\n",
       "       [-0.99627234,  0.48511913, -0.63068022, -0.87627458],\n",
       "       [-0.5671311 ,  0.48511913,  0.81003175, -0.87627458],\n",
       "       [-1.35389004,  0.52484353, -1.75988691,  1.1411948 ],\n",
       "       [-0.71017818,  0.52484353,  1.4719805 , -0.87627458],\n",
       "       [ 0.36267492,  0.52484353, -1.68201058, -0.87627458],\n",
       "       [-0.49560756,  0.52484353,  0.88790808,  1.1411948 ],\n",
       "       [-1.42541358,  0.56456792, -1.5651961 ,  1.1411948 ],\n",
       "       [-0.28103694,  0.56456792,  0.84896992, -0.87627458],\n",
       "       [ 1.29248094,  0.60429232, -1.75988691, -0.87627458],\n",
       "       [-0.49560756,  0.60429232,  1.66667131,  1.1411948 ],\n",
       "       [-0.78170172,  0.64401671, -0.39705125, -0.87627458],\n",
       "       [-0.49560756,  0.64401671,  1.43304234, -0.87627458],\n",
       "       [-0.99627234,  0.68374111, -1.48731978,  1.1411948 ],\n",
       "       [-0.78170172,  0.68374111,  1.82242395,  1.1411948 ],\n",
       "       [ 0.64876908,  0.68374111, -0.5528039 ,  1.1411948 ],\n",
       "       [-0.49560756,  0.68374111,  0.92684624, -0.87627458],\n",
       "       [-0.35256048,  0.72346551, -1.09793816, -0.87627458],\n",
       "       [-0.35256048,  0.72346551,  1.54985682,  1.1411948 ],\n",
       "       [ 0.29115138,  0.72346551, -1.29262897,  1.1411948 ],\n",
       "       [ 0.00505722,  0.72346551,  1.4719805 ,  1.1411948 ],\n",
       "       [ 0.36267492,  0.72346551, -1.17581448, -0.87627458],\n",
       "       [-0.06646632,  0.72346551,  1.00472256, -0.87627458],\n",
       "       [ 0.57724554,  0.72346551, -1.33156713, -0.87627458],\n",
       "       [-0.85322526,  0.72346551,  1.51091866, -0.87627458],\n",
       "       [-0.13798986,  0.72346551, -1.91563955,  1.1411948 ],\n",
       "       [-0.63865464,  0.72346551,  1.08259888, -0.87627458],\n",
       "       [-0.35256048,  0.72346551, -1.91563955,  1.1411948 ],\n",
       "       [-0.63865464,  0.72346551,  0.88790808, -0.87627458],\n",
       "       [ 1.2209574 ,  0.7631899 , -0.59174206, -0.87627458],\n",
       "       [-0.71017818,  0.7631899 ,  1.27728969, -0.87627458],\n",
       "       [-1.42541358,  0.84263869, -1.75988691,  1.1411948 ],\n",
       "       [-0.5671311 ,  0.84263869,  1.66667131, -0.87627458],\n",
       "       [ 0.79181616,  1.00153627, -0.94218551,  1.1411948 ],\n",
       "       [-0.2095134 ,  1.00153627,  0.9657844 , -0.87627458],\n",
       "       [ 0.21962784,  1.04126067, -1.17581448,  1.1411948 ],\n",
       "       [-0.42408402,  1.04126067,  1.74454763, -0.87627458],\n",
       "       [-0.2095134 ,  1.08098506, -0.90324735, -0.87627458],\n",
       "       [-0.49560756,  1.08098506,  0.49852646,  1.1411948 ],\n",
       "       [ 0.07658076,  1.08098506, -1.44838161,  1.1411948 ],\n",
       "       [-0.78170172,  1.08098506,  0.9657844 ,  1.1411948 ],\n",
       "       [-0.2095134 ,  1.08098506, -1.5651961 ,  1.1411948 ],\n",
       "       [-0.2095134 ,  1.08098506,  1.62773315,  1.1411948 ],\n",
       "       [ 0.93486324,  1.12070946, -1.44838161, -0.87627458],\n",
       "       [-0.63865464,  1.12070946,  1.39410418, -0.87627458],\n",
       "       [ 1.36400448,  1.12070946, -1.37050529,  1.1411948 ],\n",
       "       [-0.85322526,  1.12070946,  0.73215543,  1.1411948 ],\n",
       "       [ 1.43552802,  1.31933144, -1.40944345,  1.1411948 ],\n",
       "       [-0.28103694,  1.31933144,  1.54985682,  1.1411948 ],\n",
       "       [-0.13798986,  1.47822902, -0.70855655, -0.87627458],\n",
       "       [-0.49560756,  1.47822902,  1.39410418, -0.87627458],\n",
       "       [ 0.505722  ,  1.51795342, -1.37050529,  1.1411948 ],\n",
       "       [-0.71017818,  1.51795342,  1.4719805 , -0.87627458],\n",
       "       [ 0.1481043 ,  1.55767781, -0.43598941, -0.87627458],\n",
       "       [-0.63865464,  1.55767781,  1.82242395,  1.1411948 ],\n",
       "       [ 1.07791032,  1.6371266 , -1.02006184, -0.87627458],\n",
       "       [-0.78170172,  1.6371266 ,  0.69321727,  1.1411948 ],\n",
       "       [ 0.1481043 ,  1.71657539, -1.29262897, -0.87627458],\n",
       "       [-0.2095134 ,  1.71657539,  1.35516602, -0.87627458],\n",
       "       [-0.35256048,  1.71657539, -1.059     , -0.87627458],\n",
       "       [-0.49560756,  1.71657539,  0.73215543, -0.87627458],\n",
       "       [-0.42408402,  2.11381935, -1.64307242,  1.1411948 ],\n",
       "       [-0.06646632,  2.11381935,  1.58879498, -0.87627458],\n",
       "       [ 0.57724554,  2.39189012, -1.33156713, -0.87627458],\n",
       "       [-0.28103694,  2.39189012,  1.12153705, -0.87627458],\n",
       "       [ 0.43419846,  2.63023649, -0.86430919, -0.87627458],\n",
       "       [-0.49560756,  2.63023649,  0.92684624,  1.1411948 ]])"
      ]
     },
     "execution_count": 24,
     "metadata": {},
     "output_type": "execute_result"
    }
   ],
   "source": [
    "df"
   ]
  },
  {
   "cell_type": "code",
   "execution_count": 25,
   "metadata": {},
   "outputs": [],
   "source": [
    "scaled_df = pd.DataFrame({'Gender':df[:,0], 'Age':df[:,1], 'Annual Income':df[:,2], 'Spending Score':df[:,3]}) "
   ]
  },
  {
   "cell_type": "code",
   "execution_count": 26,
   "metadata": {},
   "outputs": [
    {
     "data": {
      "text/html": [
       "<div>\n",
       "<style scoped>\n",
       "    .dataframe tbody tr th:only-of-type {\n",
       "        vertical-align: middle;\n",
       "    }\n",
       "\n",
       "    .dataframe tbody tr th {\n",
       "        vertical-align: top;\n",
       "    }\n",
       "\n",
       "    .dataframe thead th {\n",
       "        text-align: right;\n",
       "    }\n",
       "</style>\n",
       "<table border=\"1\" class=\"dataframe\">\n",
       "  <thead>\n",
       "    <tr style=\"text-align: right;\">\n",
       "      <th></th>\n",
       "      <th>Gender</th>\n",
       "      <th>Age</th>\n",
       "      <th>Annual Income</th>\n",
       "      <th>Spending Score</th>\n",
       "    </tr>\n",
       "  </thead>\n",
       "  <tbody>\n",
       "    <tr>\n",
       "      <th>0</th>\n",
       "      <td>-1.425414</td>\n",
       "      <td>-1.779171</td>\n",
       "      <td>-0.435989</td>\n",
       "      <td>1.141195</td>\n",
       "    </tr>\n",
       "    <tr>\n",
       "      <th>1</th>\n",
       "      <td>-1.282367</td>\n",
       "      <td>-1.779171</td>\n",
       "      <td>1.199413</td>\n",
       "      <td>1.141195</td>\n",
       "    </tr>\n",
       "    <tr>\n",
       "      <th>2</th>\n",
       "      <td>-1.353890</td>\n",
       "      <td>-1.739447</td>\n",
       "      <td>-1.720949</td>\n",
       "      <td>-0.876275</td>\n",
       "    </tr>\n",
       "    <tr>\n",
       "      <th>3</th>\n",
       "      <td>-1.139319</td>\n",
       "      <td>-1.739447</td>\n",
       "      <td>1.043661</td>\n",
       "      <td>-0.876275</td>\n",
       "    </tr>\n",
       "    <tr>\n",
       "      <th>4</th>\n",
       "      <td>-0.567131</td>\n",
       "      <td>-1.699723</td>\n",
       "      <td>-0.397051</td>\n",
       "      <td>-0.876275</td>\n",
       "    </tr>\n",
       "    <tr>\n",
       "      <th>5</th>\n",
       "      <td>-1.210843</td>\n",
       "      <td>-1.699723</td>\n",
       "      <td>1.004723</td>\n",
       "      <td>-0.876275</td>\n",
       "    </tr>\n",
       "    <tr>\n",
       "      <th>6</th>\n",
       "      <td>-0.281037</td>\n",
       "      <td>-1.659998</td>\n",
       "      <td>-1.720949</td>\n",
       "      <td>-0.876275</td>\n",
       "    </tr>\n",
       "    <tr>\n",
       "      <th>7</th>\n",
       "      <td>-1.139319</td>\n",
       "      <td>-1.659998</td>\n",
       "      <td>1.705609</td>\n",
       "      <td>-0.876275</td>\n",
       "    </tr>\n",
       "    <tr>\n",
       "      <th>8</th>\n",
       "      <td>1.793146</td>\n",
       "      <td>-1.620274</td>\n",
       "      <td>-1.837763</td>\n",
       "      <td>1.141195</td>\n",
       "    </tr>\n",
       "    <tr>\n",
       "      <th>9</th>\n",
       "      <td>-0.638655</td>\n",
       "      <td>-1.620274</td>\n",
       "      <td>0.848970</td>\n",
       "      <td>-0.876275</td>\n",
       "    </tr>\n",
       "    <tr>\n",
       "      <th>10</th>\n",
       "      <td>2.007716</td>\n",
       "      <td>-1.620274</td>\n",
       "      <td>-1.409443</td>\n",
       "      <td>1.141195</td>\n",
       "    </tr>\n",
       "    <tr>\n",
       "      <th>11</th>\n",
       "      <td>-0.281037</td>\n",
       "      <td>-1.620274</td>\n",
       "      <td>1.900300</td>\n",
       "      <td>-0.876275</td>\n",
       "    </tr>\n",
       "    <tr>\n",
       "      <th>12</th>\n",
       "      <td>1.364004</td>\n",
       "      <td>-1.580549</td>\n",
       "      <td>-1.370505</td>\n",
       "      <td>-0.876275</td>\n",
       "    </tr>\n",
       "    <tr>\n",
       "      <th>13</th>\n",
       "      <td>-1.067796</td>\n",
       "      <td>-1.580549</td>\n",
       "      <td>1.043661</td>\n",
       "      <td>-0.876275</td>\n",
       "    </tr>\n",
       "    <tr>\n",
       "      <th>14</th>\n",
       "      <td>-0.137990</td>\n",
       "      <td>-1.580549</td>\n",
       "      <td>-1.448382</td>\n",
       "      <td>1.141195</td>\n",
       "    </tr>\n",
       "    <tr>\n",
       "      <th>15</th>\n",
       "      <td>-1.210843</td>\n",
       "      <td>-1.580549</td>\n",
       "      <td>1.121537</td>\n",
       "      <td>1.141195</td>\n",
       "    </tr>\n",
       "    <tr>\n",
       "      <th>16</th>\n",
       "      <td>-0.281037</td>\n",
       "      <td>-1.540825</td>\n",
       "      <td>-0.591742</td>\n",
       "      <td>-0.876275</td>\n",
       "    </tr>\n",
       "    <tr>\n",
       "      <th>17</th>\n",
       "      <td>-1.353890</td>\n",
       "      <td>-1.540825</td>\n",
       "      <td>0.615341</td>\n",
       "      <td>1.141195</td>\n",
       "    </tr>\n",
       "    <tr>\n",
       "      <th>18</th>\n",
       "      <td>0.934863</td>\n",
       "      <td>-1.461376</td>\n",
       "      <td>-0.825371</td>\n",
       "      <td>1.141195</td>\n",
       "    </tr>\n",
       "    <tr>\n",
       "      <th>19</th>\n",
       "      <td>-0.281037</td>\n",
       "      <td>-1.461376</td>\n",
       "      <td>1.861362</td>\n",
       "      <td>-0.876275</td>\n",
       "    </tr>\n",
       "  </tbody>\n",
       "</table>\n",
       "</div>"
      ],
      "text/plain": [
       "      Gender       Age  Annual Income  Spending Score\n",
       "0  -1.425414 -1.779171      -0.435989        1.141195\n",
       "1  -1.282367 -1.779171       1.199413        1.141195\n",
       "2  -1.353890 -1.739447      -1.720949       -0.876275\n",
       "3  -1.139319 -1.739447       1.043661       -0.876275\n",
       "4  -0.567131 -1.699723      -0.397051       -0.876275\n",
       "5  -1.210843 -1.699723       1.004723       -0.876275\n",
       "6  -0.281037 -1.659998      -1.720949       -0.876275\n",
       "7  -1.139319 -1.659998       1.705609       -0.876275\n",
       "8   1.793146 -1.620274      -1.837763        1.141195\n",
       "9  -0.638655 -1.620274       0.848970       -0.876275\n",
       "10  2.007716 -1.620274      -1.409443        1.141195\n",
       "11 -0.281037 -1.620274       1.900300       -0.876275\n",
       "12  1.364004 -1.580549      -1.370505       -0.876275\n",
       "13 -1.067796 -1.580549       1.043661       -0.876275\n",
       "14 -0.137990 -1.580549      -1.448382        1.141195\n",
       "15 -1.210843 -1.580549       1.121537        1.141195\n",
       "16 -0.281037 -1.540825      -0.591742       -0.876275\n",
       "17 -1.353890 -1.540825       0.615341        1.141195\n",
       "18  0.934863 -1.461376      -0.825371        1.141195\n",
       "19 -0.281037 -1.461376       1.861362       -0.876275"
      ]
     },
     "execution_count": 26,
     "metadata": {},
     "output_type": "execute_result"
    }
   ],
   "source": [
    "scaled_df.head(20)"
   ]
  },
  {
   "cell_type": "code",
   "execution_count": 27,
   "metadata": {},
   "outputs": [
    {
     "data": {
      "text/plain": [
       "(198, 4)"
      ]
     },
     "execution_count": 27,
     "metadata": {},
     "output_type": "execute_result"
    }
   ],
   "source": [
    "scaled_df.shape"
   ]
  },
  {
   "cell_type": "code",
   "execution_count": 28,
   "metadata": {},
   "outputs": [],
   "source": [
    "scaled_df = scaled_df.drop_duplicates(keep='first')"
   ]
  },
  {
   "cell_type": "code",
   "execution_count": 29,
   "metadata": {},
   "outputs": [
    {
     "data": {
      "text/plain": [
       "(198, 4)"
      ]
     },
     "execution_count": 29,
     "metadata": {},
     "output_type": "execute_result"
    }
   ],
   "source": [
    "scaled_df.shape"
   ]
  },
  {
   "cell_type": "code",
   "execution_count": 30,
   "metadata": {},
   "outputs": [],
   "source": [
    "from scipy.spatial.distance import cdist"
   ]
  },
  {
   "cell_type": "code",
   "execution_count": 31,
   "metadata": {},
   "outputs": [],
   "source": [
    "clusters = range(1,11)\n",
    "mean_dist = []"
   ]
  },
  {
   "cell_type": "code",
   "execution_count": 32,
   "metadata": {},
   "outputs": [],
   "source": [
    "from sklearn.cluster import KMeans\n",
    "import numpy as np"
   ]
  },
  {
   "cell_type": "code",
   "execution_count": 33,
   "metadata": {},
   "outputs": [],
   "source": [
    "for k in clusters:\n",
    "    model = KMeans(n_clusters = k)\n",
    "    model.fit(scaled_df)\n",
    "    mean_dist.append(sum(np.min(cdist(scaled_df, model.cluster_centers_, 'euclidean'), axis=1))/scaled_df.shape[0])"
   ]
  },
  {
   "cell_type": "code",
   "execution_count": 34,
   "metadata": {},
   "outputs": [],
   "source": [
    "from matplotlib import pyplot as plt"
   ]
  },
  {
   "cell_type": "code",
   "execution_count": 35,
   "metadata": {},
   "outputs": [
    {
     "data": {
      "text/plain": [
       "Text(0.5, 1.0, 'Elbow curve')"
      ]
     },
     "execution_count": 35,
     "metadata": {},
     "output_type": "execute_result"
    },
    {
     "data": {
      "image/png": "[encoded data removed]",
      "text/plain": [
       "<Figure size 432x288 with 1 Axes>"
      ]
     },
     "metadata": {
      "needs_background": "light"
     },
     "output_type": "display_data"
    }
   ],
   "source": [
    "plt.plot(clusters, mean_dist)\n",
    "plt.xlabel('Number of clsuters')\n",
    "plt.ylabel('Avg distance')\n",
    "plt.title('Elbow curve')"
   ]
  },
  {
   "cell_type": "code",
   "execution_count": 36,
   "metadata": {},
   "outputs": [
    {
     "data": {
      "text/plain": [
       "KMeans(n_clusters=2)"
      ]
     },
     "execution_count": 36,
     "metadata": {},
     "output_type": "execute_result"
    }
   ],
   "source": [
    "model1 = KMeans(n_clusters = 2)\n",
    "model1.fit(scaled_df)"
   ]
  },
  {
   "cell_type": "code",
   "execution_count": 37,
   "metadata": {},
   "outputs": [],
   "source": [
    "from sklearn.decomposition import PCA"
   ]
  },
  {
   "cell_type": "code",
   "execution_count": 38,
   "metadata": {},
   "outputs": [],
   "source": [
    "pca_2 = PCA(2)"
   ]
  },
  {
   "cell_type": "code",
   "execution_count": 39,
   "metadata": {},
   "outputs": [
    {
     "data": {
      "image/png": "[encoded data removed]",
      "text/plain": [
       "<Figure size 1440x864 with 1 Axes>"
      ]
     },
     "metadata": {
      "needs_background": "light"
     },
     "output_type": "display_data"
    }
   ],
   "source": [
    "plt.figure(figsize=(20,12))\n",
    "plot_columns = pca_2.fit_transform(scaled_df)\n",
    "plt.scatter(x = plot_columns[:,0], y = plot_columns[:,1], c = model1.labels_)\n",
    "plt.show()"
   ]
  },
  {
   "cell_type": "code",
   "execution_count": 40,
   "metadata": {},
   "outputs": [],
   "source": [
    "prediction = model1.predict(scaled_df)"
   ]
  },
  {
   "cell_type": "code",
   "execution_count": 41,
   "metadata": {},
   "outputs": [
    {
     "data": {
      "text/plain": [
       "array([1, 1, 0, 1, 1, 1, 0, 1, 0, 1, 0, 1, 0, 1, 0, 1, 0, 1, 0, 1, 0, 1,\n",
       "       0, 1, 0, 1, 0, 1, 0, 1, 0, 1, 0, 1, 0, 1, 0, 1, 0, 1, 0, 1, 0, 1,\n",
       "       0, 1, 0, 1, 1, 1, 0, 1, 1, 0, 0, 0, 0, 0, 1, 0, 0, 1, 0, 0, 0, 1,\n",
       "       0, 0, 1, 1, 0, 0, 0, 0, 0, 1, 0, 0, 1, 0, 0, 1, 0, 0, 1, 0, 0, 1,\n",
       "       1, 0, 0, 1, 0, 0, 1, 1, 0, 1, 0, 1, 1, 0, 0, 1, 0, 1, 0, 0, 0, 0,\n",
       "       0, 1, 0, 1, 1, 1, 0, 0, 0, 0, 1, 0, 1, 1, 1, 1, 0, 1, 0, 1, 0, 1,\n",
       "       1, 1, 0, 1, 0, 1, 0, 1, 0, 1, 1, 1, 0, 1, 0, 1, 0, 1, 0, 1, 0, 1,\n",
       "       0, 1, 0, 1, 0, 1, 0, 1, 0, 1, 0, 1, 0, 1, 0, 1, 0, 1, 0, 1, 0, 1,\n",
       "       0, 1, 0, 1, 0, 1, 0, 1, 0, 1, 0, 1, 0, 1, 0, 1, 0, 1, 0, 1, 0, 1])"
      ]
     },
     "execution_count": 41,
     "metadata": {},
     "output_type": "execute_result"
    }
   ],
   "source": [
    "prediction"
   ]
  },
  {
   "cell_type": "code",
   "execution_count": 42,
   "metadata": {},
   "outputs": [
    {
     "data": {
      "text/plain": [
       "(198,)"
      ]
     },
     "execution_count": 42,
     "metadata": {},
     "output_type": "execute_result"
    }
   ],
   "source": [
    "prediction.shape"
   ]
  },
  {
   "cell_type": "code",
   "execution_count": 43,
   "metadata": {},
   "outputs": [],
   "source": [
    "scaled_df['Cluster'] = prediction"
   ]
  },
  {
   "cell_type": "code",
   "execution_count": 44,
   "metadata": {},
   "outputs": [
    {
     "data": {
      "text/html": [
       "<div>\n",
       "<style scoped>\n",
       "    .dataframe tbody tr th:only-of-type {\n",
       "        vertical-align: middle;\n",
       "    }\n",
       "\n",
       "    .dataframe tbody tr th {\n",
       "        vertical-align: top;\n",
       "    }\n",
       "\n",
       "    .dataframe thead th {\n",
       "        text-align: right;\n",
       "    }\n",
       "</style>\n",
       "<table border=\"1\" class=\"dataframe\">\n",
       "  <thead>\n",
       "    <tr style=\"text-align: right;\">\n",
       "      <th></th>\n",
       "      <th>Gender</th>\n",
       "      <th>Age</th>\n",
       "      <th>Annual Income</th>\n",
       "      <th>Spending Score</th>\n",
       "      <th>Cluster</th>\n",
       "    </tr>\n",
       "  </thead>\n",
       "  <tbody>\n",
       "    <tr>\n",
       "      <th>0</th>\n",
       "      <td>-1.425414</td>\n",
       "      <td>-1.779171</td>\n",
       "      <td>-0.435989</td>\n",
       "      <td>1.141195</td>\n",
       "      <td>1</td>\n",
       "    </tr>\n",
       "    <tr>\n",
       "      <th>1</th>\n",
       "      <td>-1.282367</td>\n",
       "      <td>-1.779171</td>\n",
       "      <td>1.199413</td>\n",
       "      <td>1.141195</td>\n",
       "      <td>1</td>\n",
       "    </tr>\n",
       "    <tr>\n",
       "      <th>2</th>\n",
       "      <td>-1.353890</td>\n",
       "      <td>-1.739447</td>\n",
       "      <td>-1.720949</td>\n",
       "      <td>-0.876275</td>\n",
       "      <td>0</td>\n",
       "    </tr>\n",
       "    <tr>\n",
       "      <th>3</th>\n",
       "      <td>-1.139319</td>\n",
       "      <td>-1.739447</td>\n",
       "      <td>1.043661</td>\n",
       "      <td>-0.876275</td>\n",
       "      <td>1</td>\n",
       "    </tr>\n",
       "    <tr>\n",
       "      <th>4</th>\n",
       "      <td>-0.567131</td>\n",
       "      <td>-1.699723</td>\n",
       "      <td>-0.397051</td>\n",
       "      <td>-0.876275</td>\n",
       "      <td>1</td>\n",
       "    </tr>\n",
       "    <tr>\n",
       "      <th>...</th>\n",
       "      <td>...</td>\n",
       "      <td>...</td>\n",
       "      <td>...</td>\n",
       "      <td>...</td>\n",
       "      <td>...</td>\n",
       "    </tr>\n",
       "    <tr>\n",
       "      <th>193</th>\n",
       "      <td>-0.066466</td>\n",
       "      <td>2.113819</td>\n",
       "      <td>1.588795</td>\n",
       "      <td>-0.876275</td>\n",
       "      <td>1</td>\n",
       "    </tr>\n",
       "    <tr>\n",
       "      <th>194</th>\n",
       "      <td>0.577246</td>\n",
       "      <td>2.391890</td>\n",
       "      <td>-1.331567</td>\n",
       "      <td>-0.876275</td>\n",
       "      <td>0</td>\n",
       "    </tr>\n",
       "    <tr>\n",
       "      <th>195</th>\n",
       "      <td>-0.281037</td>\n",
       "      <td>2.391890</td>\n",
       "      <td>1.121537</td>\n",
       "      <td>-0.876275</td>\n",
       "      <td>1</td>\n",
       "    </tr>\n",
       "    <tr>\n",
       "      <th>196</th>\n",
       "      <td>0.434198</td>\n",
       "      <td>2.630236</td>\n",
       "      <td>-0.864309</td>\n",
       "      <td>-0.876275</td>\n",
       "      <td>0</td>\n",
       "    </tr>\n",
       "    <tr>\n",
       "      <th>197</th>\n",
       "      <td>-0.495608</td>\n",
       "      <td>2.630236</td>\n",
       "      <td>0.926846</td>\n",
       "      <td>1.141195</td>\n",
       "      <td>1</td>\n",
       "    </tr>\n",
       "  </tbody>\n",
       "</table>\n",
       "<p>198 rows × 5 columns</p>\n",
       "</div>"
      ],
      "text/plain": [
       "       Gender       Age  Annual Income  Spending Score  Cluster\n",
       "0   -1.425414 -1.779171      -0.435989        1.141195        1\n",
       "1   -1.282367 -1.779171       1.199413        1.141195        1\n",
       "2   -1.353890 -1.739447      -1.720949       -0.876275        0\n",
       "3   -1.139319 -1.739447       1.043661       -0.876275        1\n",
       "4   -0.567131 -1.699723      -0.397051       -0.876275        1\n",
       "..        ...       ...            ...             ...      ...\n",
       "193 -0.066466  2.113819       1.588795       -0.876275        1\n",
       "194  0.577246  2.391890      -1.331567       -0.876275        0\n",
       "195 -0.281037  2.391890       1.121537       -0.876275        1\n",
       "196  0.434198  2.630236      -0.864309       -0.876275        0\n",
       "197 -0.495608  2.630236       0.926846        1.141195        1\n",
       "\n",
       "[198 rows x 5 columns]"
      ]
     },
     "execution_count": 44,
     "metadata": {},
     "output_type": "execute_result"
    }
   ],
   "source": [
    "scaled_df"
   ]
  },
  {
   "cell_type": "code",
   "execution_count": null,
   "metadata": {},
   "outputs": [],
   "source": []
  }
 ],
 "metadata": {
  "kernelspec": {
   "display_name": "Python 3",
   "language": "python",
   "name": "python3"
  },
  "language_info": {
   "codemirror_mode": {
    "name": "ipython",
    "version": 3
   },
   "file_extension": ".py",
   "mimetype": "text/x-python",
   "name": "python",
   "nbconvert_exporter": "python",
   "pygments_lexer": "ipython3",
   "version": "3.8.3"
  }
 },
 "nbformat": 4,
 "nbformat_minor": 4
}
