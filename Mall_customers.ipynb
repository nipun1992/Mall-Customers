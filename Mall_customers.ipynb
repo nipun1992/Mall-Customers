{
 "cells": [
  {
   "cell_type": "markdown",
   "metadata": {},
   "source": [
    "## Creating a K Means Machine Learning algorithm to group similar customers together and separately from dissimilar customers based on their earning and spending behaviour"
   ]
  },
  {
   "cell_type": "markdown",
   "metadata": {},
   "source": [
    "#### Importing Python libraries"
   ]
  },
  {
   "cell_type": "code",
   "execution_count": 1,
   "metadata": {},
   "outputs": [],
   "source": [
    "import pandas as pd"
   ]
  },
  {
   "cell_type": "markdown",
   "metadata": {},
   "source": [
    "#### Reading the dataset"
   ]
  },
  {
   "cell_type": "code",
   "execution_count": 2,
   "metadata": {},
   "outputs": [],
   "source": [
    "df = pd.read_csv('Mall_Customers.csv', index_col = 'CustomerID')"
   ]
  },
  {
   "cell_type": "code",
   "execution_count": 3,
   "metadata": {},
   "outputs": [
    {
     "data": {
      "text/html": [
       "<div>\n",
       "<style scoped>\n",
       "    .dataframe tbody tr th:only-of-type {\n",
       "        vertical-align: middle;\n",
       "    }\n",
       "\n",
       "    .dataframe tbody tr th {\n",
       "        vertical-align: top;\n",
       "    }\n",
       "\n",
       "    .dataframe thead th {\n",
       "        text-align: right;\n",
       "    }\n",
       "</style>\n",
       "<table border=\"1\" class=\"dataframe\">\n",
       "  <thead>\n",
       "    <tr style=\"text-align: right;\">\n",
       "      <th></th>\n",
       "      <th>Genre</th>\n",
       "      <th>Age</th>\n",
       "      <th>Annual Income (k$)</th>\n",
       "      <th>Spending Score (1-100)</th>\n",
       "    </tr>\n",
       "    <tr>\n",
       "      <th>CustomerID</th>\n",
       "      <th></th>\n",
       "      <th></th>\n",
       "      <th></th>\n",
       "      <th></th>\n",
       "    </tr>\n",
       "  </thead>\n",
       "  <tbody>\n",
       "    <tr>\n",
       "      <th>1</th>\n",
       "      <td>Male</td>\n",
       "      <td>19</td>\n",
       "      <td>15</td>\n",
       "      <td>39</td>\n",
       "    </tr>\n",
       "    <tr>\n",
       "      <th>2</th>\n",
       "      <td>Male</td>\n",
       "      <td>21</td>\n",
       "      <td>15</td>\n",
       "      <td>81</td>\n",
       "    </tr>\n",
       "    <tr>\n",
       "      <th>3</th>\n",
       "      <td>Female</td>\n",
       "      <td>20</td>\n",
       "      <td>16</td>\n",
       "      <td>6</td>\n",
       "    </tr>\n",
       "    <tr>\n",
       "      <th>4</th>\n",
       "      <td>Female</td>\n",
       "      <td>23</td>\n",
       "      <td>16</td>\n",
       "      <td>77</td>\n",
       "    </tr>\n",
       "    <tr>\n",
       "      <th>5</th>\n",
       "      <td>Female</td>\n",
       "      <td>31</td>\n",
       "      <td>17</td>\n",
       "      <td>40</td>\n",
       "    </tr>\n",
       "  </tbody>\n",
       "</table>\n",
       "</div>"
      ],
      "text/plain": [
       "             Genre  Age  Annual Income (k$)  Spending Score (1-100)\n",
       "CustomerID                                                         \n",
       "1             Male   19                  15                      39\n",
       "2             Male   21                  15                      81\n",
       "3           Female   20                  16                       6\n",
       "4           Female   23                  16                      77\n",
       "5           Female   31                  17                      40"
      ]
     },
     "execution_count": 3,
     "metadata": {},
     "output_type": "execute_result"
    }
   ],
   "source": [
    "df.head()"
   ]
  },
  {
   "cell_type": "markdown",
   "metadata": {},
   "source": [
    "#### Shape of the dataset"
   ]
  },
  {
   "cell_type": "code",
   "execution_count": 4,
   "metadata": {},
   "outputs": [
    {
     "data": {
      "text/plain": [
       "(200, 4)"
      ]
     },
     "execution_count": 4,
     "metadata": {},
     "output_type": "execute_result"
    }
   ],
   "source": [
    "df.shape"
   ]
  },
  {
   "cell_type": "markdown",
   "metadata": {},
   "source": [
    "#### Information about the dataset"
   ]
  },
  {
   "cell_type": "code",
   "execution_count": 5,
   "metadata": {},
   "outputs": [
    {
     "name": "stdout",
     "output_type": "stream",
     "text": [
      "<class 'pandas.core.frame.DataFrame'>\n",
      "Int64Index: 200 entries, 1 to 200\n",
      "Data columns (total 4 columns):\n",
      " #   Column                  Non-Null Count  Dtype \n",
      "---  ------                  --------------  ----- \n",
      " 0   Genre                   200 non-null    object\n",
      " 1   Age                     200 non-null    int64 \n",
      " 2   Annual Income (k$)      200 non-null    int64 \n",
      " 3   Spending Score (1-100)  200 non-null    int64 \n",
      "dtypes: int64(3), object(1)\n",
      "memory usage: 7.8+ KB\n"
     ]
    }
   ],
   "source": [
    "df.info()"
   ]
  },
  {
   "cell_type": "markdown",
   "metadata": {},
   "source": [
    "#### Description of the dataset"
   ]
  },
  {
   "cell_type": "code",
   "execution_count": 6,
   "metadata": {},
   "outputs": [
    {
     "data": {
      "text/html": [
       "<div>\n",
       "<style scoped>\n",
       "    .dataframe tbody tr th:only-of-type {\n",
       "        vertical-align: middle;\n",
       "    }\n",
       "\n",
       "    .dataframe tbody tr th {\n",
       "        vertical-align: top;\n",
       "    }\n",
       "\n",
       "    .dataframe thead th {\n",
       "        text-align: right;\n",
       "    }\n",
       "</style>\n",
       "<table border=\"1\" class=\"dataframe\">\n",
       "  <thead>\n",
       "    <tr style=\"text-align: right;\">\n",
       "      <th></th>\n",
       "      <th>Age</th>\n",
       "      <th>Annual Income (k$)</th>\n",
       "      <th>Spending Score (1-100)</th>\n",
       "    </tr>\n",
       "  </thead>\n",
       "  <tbody>\n",
       "    <tr>\n",
       "      <th>count</th>\n",
       "      <td>200.000000</td>\n",
       "      <td>200.000000</td>\n",
       "      <td>200.000000</td>\n",
       "    </tr>\n",
       "    <tr>\n",
       "      <th>mean</th>\n",
       "      <td>38.850000</td>\n",
       "      <td>60.560000</td>\n",
       "      <td>50.200000</td>\n",
       "    </tr>\n",
       "    <tr>\n",
       "      <th>std</th>\n",
       "      <td>13.969007</td>\n",
       "      <td>26.264721</td>\n",
       "      <td>25.823522</td>\n",
       "    </tr>\n",
       "    <tr>\n",
       "      <th>min</th>\n",
       "      <td>18.000000</td>\n",
       "      <td>15.000000</td>\n",
       "      <td>1.000000</td>\n",
       "    </tr>\n",
       "    <tr>\n",
       "      <th>25%</th>\n",
       "      <td>28.750000</td>\n",
       "      <td>41.500000</td>\n",
       "      <td>34.750000</td>\n",
       "    </tr>\n",
       "    <tr>\n",
       "      <th>50%</th>\n",
       "      <td>36.000000</td>\n",
       "      <td>61.500000</td>\n",
       "      <td>50.000000</td>\n",
       "    </tr>\n",
       "    <tr>\n",
       "      <th>75%</th>\n",
       "      <td>49.000000</td>\n",
       "      <td>78.000000</td>\n",
       "      <td>73.000000</td>\n",
       "    </tr>\n",
       "    <tr>\n",
       "      <th>max</th>\n",
       "      <td>70.000000</td>\n",
       "      <td>137.000000</td>\n",
       "      <td>99.000000</td>\n",
       "    </tr>\n",
       "  </tbody>\n",
       "</table>\n",
       "</div>"
      ],
      "text/plain": [
       "              Age  Annual Income (k$)  Spending Score (1-100)\n",
       "count  200.000000          200.000000              200.000000\n",
       "mean    38.850000           60.560000               50.200000\n",
       "std     13.969007           26.264721               25.823522\n",
       "min     18.000000           15.000000                1.000000\n",
       "25%     28.750000           41.500000               34.750000\n",
       "50%     36.000000           61.500000               50.000000\n",
       "75%     49.000000           78.000000               73.000000\n",
       "max     70.000000          137.000000               99.000000"
      ]
     },
     "execution_count": 6,
     "metadata": {},
     "output_type": "execute_result"
    }
   ],
   "source": [
    "df.describe()"
   ]
  },
  {
   "cell_type": "markdown",
   "metadata": {},
   "source": [
    "#### Counts of respective columns of the dataset"
   ]
  },
  {
   "cell_type": "code",
   "execution_count": 7,
   "metadata": {},
   "outputs": [
    {
     "data": {
      "text/plain": [
       "Genre                     200\n",
       "Age                       200\n",
       "Annual Income (k$)        200\n",
       "Spending Score (1-100)    200\n",
       "dtype: int64"
      ]
     },
     "execution_count": 7,
     "metadata": {},
     "output_type": "execute_result"
    }
   ],
   "source": [
    "df.count()"
   ]
  },
  {
   "cell_type": "markdown",
   "metadata": {},
   "source": [
    "#### Checking if the dataset contains any missing values"
   ]
  },
  {
   "cell_type": "code",
   "execution_count": 8,
   "metadata": {},
   "outputs": [
    {
     "data": {
      "text/plain": [
       "Genre                     0\n",
       "Age                       0\n",
       "Annual Income (k$)        0\n",
       "Spending Score (1-100)    0\n",
       "dtype: int64"
      ]
     },
     "execution_count": 8,
     "metadata": {},
     "output_type": "execute_result"
    }
   ],
   "source": [
    "df.isnull().sum()"
   ]
  },
  {
   "cell_type": "markdown",
   "metadata": {},
   "source": [
    "#### Renaming columns"
   ]
  },
  {
   "cell_type": "code",
   "execution_count": 9,
   "metadata": {},
   "outputs": [],
   "source": [
    "df = df.rename(columns={'Genre':'Gender'})"
   ]
  },
  {
   "cell_type": "code",
   "execution_count": 10,
   "metadata": {},
   "outputs": [
    {
     "data": {
      "text/plain": [
       "(200, 4)"
      ]
     },
     "execution_count": 10,
     "metadata": {},
     "output_type": "execute_result"
    }
   ],
   "source": [
    "df.shape"
   ]
  },
  {
   "cell_type": "code",
   "execution_count": 11,
   "metadata": {},
   "outputs": [],
   "source": [
    "df = df.rename(columns={'Annual Income (k$)':'Annual Income'})"
   ]
  },
  {
   "cell_type": "code",
   "execution_count": 12,
   "metadata": {},
   "outputs": [],
   "source": [
    "df = df.rename(columns={'Spending Score (1-100)':'Spending Score'})"
   ]
  },
  {
   "cell_type": "code",
   "execution_count": 13,
   "metadata": {},
   "outputs": [
    {
     "data": {
      "text/plain": [
       "(200, 4)"
      ]
     },
     "execution_count": 13,
     "metadata": {},
     "output_type": "execute_result"
    }
   ],
   "source": [
    "df.shape"
   ]
  },
  {
   "cell_type": "markdown",
   "metadata": {},
   "source": [
    "#### Visualing outliers using boxplot"
   ]
  },
  {
   "cell_type": "code",
   "execution_count": 14,
   "metadata": {},
   "outputs": [
    {
     "data": {
      "text/plain": [
       "<matplotlib.axes._subplots.AxesSubplot at 0x245c9f8c280>"
      ]
     },
     "execution_count": 14,
     "metadata": {},
     "output_type": "execute_result"
    },
    {
     "data": {
      "image/png": "[encoded data removed]",
      "text/plain": [
       "<Figure size 432x288 with 1 Axes>"
      ]
     },
     "metadata": {
      "needs_background": "light"
     },
     "output_type": "display_data"
    }
   ],
   "source": [
    "import seaborn as sns\n",
    "sns.boxplot(x=df['Age'])"
   ]
  },
  {
   "cell_type": "code",
   "execution_count": 15,
   "metadata": {},
   "outputs": [
    {
     "data": {
      "text/plain": [
       "<matplotlib.axes._subplots.AxesSubplot at 0x245ca696ee0>"
      ]
     },
     "execution_count": 15,
     "metadata": {},
     "output_type": "execute_result"
    },
    {
     "data": {
      "image/png": "[encoded data removed]",
      "text/plain": [
       "<Figure size 432x288 with 1 Axes>"
      ]
     },
     "metadata": {
      "needs_background": "light"
     },
     "output_type": "display_data"
    }
   ],
   "source": [
    "sns.boxplot(x=df['Annual Income'])"
   ]
  },
  {
   "cell_type": "code",
   "execution_count": 16,
   "metadata": {},
   "outputs": [
    {
     "data": {
      "text/plain": [
       "(200, 4)"
      ]
     },
     "execution_count": 16,
     "metadata": {},
     "output_type": "execute_result"
    }
   ],
   "source": [
    "df.shape"
   ]
  },
  {
   "cell_type": "code",
   "execution_count": 17,
   "metadata": {},
   "outputs": [],
   "source": [
    "df = df[df['Annual Income'] < 137]"
   ]
  },
  {
   "cell_type": "code",
   "execution_count": 18,
   "metadata": {},
   "outputs": [
    {
     "data": {
      "text/plain": [
       "(198, 4)"
      ]
     },
     "execution_count": 18,
     "metadata": {},
     "output_type": "execute_result"
    }
   ],
   "source": [
    "df.shape"
   ]
  },
  {
   "cell_type": "code",
   "execution_count": 19,
   "metadata": {},
   "outputs": [
    {
     "data": {
      "text/plain": [
       "<matplotlib.axes._subplots.AxesSubplot at 0x245c719c250>"
      ]
     },
     "execution_count": 19,
     "metadata": {},
     "output_type": "execute_result"
    },
    {
     "data": {
      "image/png": "[encoded data removed]",
      "text/plain": [
       "<Figure size 432x288 with 1 Axes>"
      ]
     },
     "metadata": {
      "needs_background": "light"
     },
     "output_type": "display_data"
    }
   ],
   "source": [
    "sns.boxplot(x=df['Annual Income'])"
   ]
  },
  {
   "cell_type": "code",
   "execution_count": 20,
   "metadata": {},
   "outputs": [
    {
     "data": {
      "text/plain": [
       "<matplotlib.axes._subplots.AxesSubplot at 0x245ca782fd0>"
      ]
     },
     "execution_count": 20,
     "metadata": {},
     "output_type": "execute_result"
    },
    {
     "data": {
      "image/png": "[encoded data removed]",
      "text/plain": [
       "<Figure size 432x288 with 1 Axes>"
      ]
     },
     "metadata": {
      "needs_background": "light"
     },
     "output_type": "display_data"
    }
   ],
   "source": [
    "sns.boxplot(x=df['Spending Score'])"
   ]
  },
  {
   "cell_type": "markdown",
   "metadata": {},
   "source": [
    "#### One hot encoding for Gender column"
   ]
  },
  {
   "cell_type": "code",
   "execution_count": 21,
   "metadata": {},
   "outputs": [],
   "source": [
    "M = df['Gender']\n",
    "df = pd.get_dummies(df, drop_first=True)"
   ]
  },
  {
   "cell_type": "code",
   "execution_count": 22,
   "metadata": {},
   "outputs": [
    {
     "data": {
      "text/plain": [
       "(198, 4)"
      ]
     },
     "execution_count": 22,
     "metadata": {},
     "output_type": "execute_result"
    }
   ],
   "source": [
    "df.shape"
   ]
  },
  {
   "cell_type": "code",
   "execution_count": 23,
   "metadata": {},
   "outputs": [
    {
     "data": {
      "text/html": [
       "<div>\n",
       "<style scoped>\n",
       "    .dataframe tbody tr th:only-of-type {\n",
       "        vertical-align: middle;\n",
       "    }\n",
       "\n",
       "    .dataframe tbody tr th {\n",
       "        vertical-align: top;\n",
       "    }\n",
       "\n",
       "    .dataframe thead th {\n",
       "        text-align: right;\n",
       "    }\n",
       "</style>\n",
       "<table border=\"1\" class=\"dataframe\">\n",
       "  <thead>\n",
       "    <tr style=\"text-align: right;\">\n",
       "      <th></th>\n",
       "      <th>Age</th>\n",
       "      <th>Annual Income</th>\n",
       "      <th>Spending Score</th>\n",
       "      <th>Gender_Male</th>\n",
       "    </tr>\n",
       "    <tr>\n",
       "      <th>CustomerID</th>\n",
       "      <th></th>\n",
       "      <th></th>\n",
       "      <th></th>\n",
       "      <th></th>\n",
       "    </tr>\n",
       "  </thead>\n",
       "  <tbody>\n",
       "    <tr>\n",
       "      <th>1</th>\n",
       "      <td>19</td>\n",
       "      <td>15</td>\n",
       "      <td>39</td>\n",
       "      <td>1</td>\n",
       "    </tr>\n",
       "    <tr>\n",
       "      <th>2</th>\n",
       "      <td>21</td>\n",
       "      <td>15</td>\n",
       "      <td>81</td>\n",
       "      <td>1</td>\n",
       "    </tr>\n",
       "    <tr>\n",
       "      <th>3</th>\n",
       "      <td>20</td>\n",
       "      <td>16</td>\n",
       "      <td>6</td>\n",
       "      <td>0</td>\n",
       "    </tr>\n",
       "    <tr>\n",
       "      <th>4</th>\n",
       "      <td>23</td>\n",
       "      <td>16</td>\n",
       "      <td>77</td>\n",
       "      <td>0</td>\n",
       "    </tr>\n",
       "    <tr>\n",
       "      <th>5</th>\n",
       "      <td>31</td>\n",
       "      <td>17</td>\n",
       "      <td>40</td>\n",
       "      <td>0</td>\n",
       "    </tr>\n",
       "    <tr>\n",
       "      <th>6</th>\n",
       "      <td>22</td>\n",
       "      <td>17</td>\n",
       "      <td>76</td>\n",
       "      <td>0</td>\n",
       "    </tr>\n",
       "    <tr>\n",
       "      <th>7</th>\n",
       "      <td>35</td>\n",
       "      <td>18</td>\n",
       "      <td>6</td>\n",
       "      <td>0</td>\n",
       "    </tr>\n",
       "    <tr>\n",
       "      <th>8</th>\n",
       "      <td>23</td>\n",
       "      <td>18</td>\n",
       "      <td>94</td>\n",
       "      <td>0</td>\n",
       "    </tr>\n",
       "    <tr>\n",
       "      <th>9</th>\n",
       "      <td>64</td>\n",
       "      <td>19</td>\n",
       "      <td>3</td>\n",
       "      <td>1</td>\n",
       "    </tr>\n",
       "    <tr>\n",
       "      <th>10</th>\n",
       "      <td>30</td>\n",
       "      <td>19</td>\n",
       "      <td>72</td>\n",
       "      <td>0</td>\n",
       "    </tr>\n",
       "    <tr>\n",
       "      <th>11</th>\n",
       "      <td>67</td>\n",
       "      <td>19</td>\n",
       "      <td>14</td>\n",
       "      <td>1</td>\n",
       "    </tr>\n",
       "    <tr>\n",
       "      <th>12</th>\n",
       "      <td>35</td>\n",
       "      <td>19</td>\n",
       "      <td>99</td>\n",
       "      <td>0</td>\n",
       "    </tr>\n",
       "    <tr>\n",
       "      <th>13</th>\n",
       "      <td>58</td>\n",
       "      <td>20</td>\n",
       "      <td>15</td>\n",
       "      <td>0</td>\n",
       "    </tr>\n",
       "    <tr>\n",
       "      <th>14</th>\n",
       "      <td>24</td>\n",
       "      <td>20</td>\n",
       "      <td>77</td>\n",
       "      <td>0</td>\n",
       "    </tr>\n",
       "    <tr>\n",
       "      <th>15</th>\n",
       "      <td>37</td>\n",
       "      <td>20</td>\n",
       "      <td>13</td>\n",
       "      <td>1</td>\n",
       "    </tr>\n",
       "    <tr>\n",
       "      <th>16</th>\n",
       "      <td>22</td>\n",
       "      <td>20</td>\n",
       "      <td>79</td>\n",
       "      <td>1</td>\n",
       "    </tr>\n",
       "    <tr>\n",
       "      <th>17</th>\n",
       "      <td>35</td>\n",
       "      <td>21</td>\n",
       "      <td>35</td>\n",
       "      <td>0</td>\n",
       "    </tr>\n",
       "    <tr>\n",
       "      <th>18</th>\n",
       "      <td>20</td>\n",
       "      <td>21</td>\n",
       "      <td>66</td>\n",
       "      <td>1</td>\n",
       "    </tr>\n",
       "    <tr>\n",
       "      <th>19</th>\n",
       "      <td>52</td>\n",
       "      <td>23</td>\n",
       "      <td>29</td>\n",
       "      <td>1</td>\n",
       "    </tr>\n",
       "    <tr>\n",
       "      <th>20</th>\n",
       "      <td>35</td>\n",
       "      <td>23</td>\n",
       "      <td>98</td>\n",
       "      <td>0</td>\n",
       "    </tr>\n",
       "  </tbody>\n",
       "</table>\n",
       "</div>"
      ],
      "text/plain": [
       "            Age  Annual Income  Spending Score  Gender_Male\n",
       "CustomerID                                                 \n",
       "1            19             15              39            1\n",
       "2            21             15              81            1\n",
       "3            20             16               6            0\n",
       "4            23             16              77            0\n",
       "5            31             17              40            0\n",
       "6            22             17              76            0\n",
       "7            35             18               6            0\n",
       "8            23             18              94            0\n",
       "9            64             19               3            1\n",
       "10           30             19              72            0\n",
       "11           67             19              14            1\n",
       "12           35             19              99            0\n",
       "13           58             20              15            0\n",
       "14           24             20              77            0\n",
       "15           37             20              13            1\n",
       "16           22             20              79            1\n",
       "17           35             21              35            0\n",
       "18           20             21              66            1\n",
       "19           52             23              29            1\n",
       "20           35             23              98            0"
      ]
     },
     "execution_count": 23,
     "metadata": {},
     "output_type": "execute_result"
    }
   ],
   "source": [
    "df.head(20)"
   ]
  },
  {
   "cell_type": "code",
   "execution_count": 24,
   "metadata": {},
   "outputs": [
    {
     "data": {
      "text/plain": [
       "CustomerID\n",
       "1      1\n",
       "2      1\n",
       "3      0\n",
       "4      0\n",
       "5      0\n",
       "      ..\n",
       "194    0\n",
       "195    0\n",
       "196    0\n",
       "197    0\n",
       "198    1\n",
       "Name: Gender_Male, Length: 198, dtype: uint8"
      ]
     },
     "execution_count": 24,
     "metadata": {},
     "output_type": "execute_result"
    }
   ],
   "source": [
    "X = df['Gender_Male']\n",
    "X"
   ]
  },
  {
   "cell_type": "code",
   "execution_count": 25,
   "metadata": {},
   "outputs": [
    {
     "data": {
      "text/html": [
       "<div>\n",
       "<style scoped>\n",
       "    .dataframe tbody tr th:only-of-type {\n",
       "        vertical-align: middle;\n",
       "    }\n",
       "\n",
       "    .dataframe tbody tr th {\n",
       "        vertical-align: top;\n",
       "    }\n",
       "\n",
       "    .dataframe thead th {\n",
       "        text-align: right;\n",
       "    }\n",
       "</style>\n",
       "<table border=\"1\" class=\"dataframe\">\n",
       "  <thead>\n",
       "    <tr style=\"text-align: right;\">\n",
       "      <th></th>\n",
       "      <th>Age</th>\n",
       "      <th>Annual Income</th>\n",
       "      <th>Spending Score</th>\n",
       "    </tr>\n",
       "    <tr>\n",
       "      <th>CustomerID</th>\n",
       "      <th></th>\n",
       "      <th></th>\n",
       "      <th></th>\n",
       "    </tr>\n",
       "  </thead>\n",
       "  <tbody>\n",
       "    <tr>\n",
       "      <th>1</th>\n",
       "      <td>19</td>\n",
       "      <td>15</td>\n",
       "      <td>39</td>\n",
       "    </tr>\n",
       "    <tr>\n",
       "      <th>2</th>\n",
       "      <td>21</td>\n",
       "      <td>15</td>\n",
       "      <td>81</td>\n",
       "    </tr>\n",
       "    <tr>\n",
       "      <th>3</th>\n",
       "      <td>20</td>\n",
       "      <td>16</td>\n",
       "      <td>6</td>\n",
       "    </tr>\n",
       "    <tr>\n",
       "      <th>4</th>\n",
       "      <td>23</td>\n",
       "      <td>16</td>\n",
       "      <td>77</td>\n",
       "    </tr>\n",
       "    <tr>\n",
       "      <th>5</th>\n",
       "      <td>31</td>\n",
       "      <td>17</td>\n",
       "      <td>40</td>\n",
       "    </tr>\n",
       "    <tr>\n",
       "      <th>6</th>\n",
       "      <td>22</td>\n",
       "      <td>17</td>\n",
       "      <td>76</td>\n",
       "    </tr>\n",
       "    <tr>\n",
       "      <th>7</th>\n",
       "      <td>35</td>\n",
       "      <td>18</td>\n",
       "      <td>6</td>\n",
       "    </tr>\n",
       "    <tr>\n",
       "      <th>8</th>\n",
       "      <td>23</td>\n",
       "      <td>18</td>\n",
       "      <td>94</td>\n",
       "    </tr>\n",
       "    <tr>\n",
       "      <th>9</th>\n",
       "      <td>64</td>\n",
       "      <td>19</td>\n",
       "      <td>3</td>\n",
       "    </tr>\n",
       "    <tr>\n",
       "      <th>10</th>\n",
       "      <td>30</td>\n",
       "      <td>19</td>\n",
       "      <td>72</td>\n",
       "    </tr>\n",
       "  </tbody>\n",
       "</table>\n",
       "</div>"
      ],
      "text/plain": [
       "            Age  Annual Income  Spending Score\n",
       "CustomerID                                    \n",
       "1            19             15              39\n",
       "2            21             15              81\n",
       "3            20             16               6\n",
       "4            23             16              77\n",
       "5            31             17              40\n",
       "6            22             17              76\n",
       "7            35             18               6\n",
       "8            23             18              94\n",
       "9            64             19               3\n",
       "10           30             19              72"
      ]
     },
     "execution_count": 25,
     "metadata": {},
     "output_type": "execute_result"
    }
   ],
   "source": [
    "df = df.drop(columns=['Gender_Male'])\n",
    "df.head(10)"
   ]
  },
  {
   "cell_type": "code",
   "execution_count": 26,
   "metadata": {},
   "outputs": [
    {
     "data": {
      "text/plain": [
       "[1,\n",
       " 2,\n",
       " 3,\n",
       " 4,\n",
       " 5,\n",
       " 6,\n",
       " 7,\n",
       " 8,\n",
       " 9,\n",
       " 10,\n",
       " 11,\n",
       " 12,\n",
       " 13,\n",
       " 14,\n",
       " 15,\n",
       " 16,\n",
       " 17,\n",
       " 18,\n",
       " 19,\n",
       " 20,\n",
       " 21,\n",
       " 22,\n",
       " 23,\n",
       " 24,\n",
       " 25,\n",
       " 26,\n",
       " 27,\n",
       " 28,\n",
       " 29,\n",
       " 30,\n",
       " 31,\n",
       " 32,\n",
       " 33,\n",
       " 34,\n",
       " 35,\n",
       " 36,\n",
       " 37,\n",
       " 38,\n",
       " 39,\n",
       " 40,\n",
       " 41,\n",
       " 42,\n",
       " 43,\n",
       " 44,\n",
       " 45,\n",
       " 46,\n",
       " 47,\n",
       " 48,\n",
       " 49,\n",
       " 50,\n",
       " 51,\n",
       " 52,\n",
       " 53,\n",
       " 54,\n",
       " 55,\n",
       " 56,\n",
       " 57,\n",
       " 58,\n",
       " 59,\n",
       " 60,\n",
       " 61,\n",
       " 62,\n",
       " 63,\n",
       " 64,\n",
       " 65,\n",
       " 66,\n",
       " 67,\n",
       " 68,\n",
       " 69,\n",
       " 70,\n",
       " 71,\n",
       " 72,\n",
       " 73,\n",
       " 74,\n",
       " 75,\n",
       " 76,\n",
       " 77,\n",
       " 78,\n",
       " 79,\n",
       " 80,\n",
       " 81,\n",
       " 82,\n",
       " 83,\n",
       " 84,\n",
       " 85,\n",
       " 86,\n",
       " 87,\n",
       " 88,\n",
       " 89,\n",
       " 90,\n",
       " 91,\n",
       " 92,\n",
       " 93,\n",
       " 94,\n",
       " 95,\n",
       " 96,\n",
       " 97,\n",
       " 98,\n",
       " 99,\n",
       " 100,\n",
       " 101,\n",
       " 102,\n",
       " 103,\n",
       " 104,\n",
       " 105,\n",
       " 106,\n",
       " 107,\n",
       " 108,\n",
       " 109,\n",
       " 110,\n",
       " 111,\n",
       " 112,\n",
       " 113,\n",
       " 114,\n",
       " 115,\n",
       " 116,\n",
       " 117,\n",
       " 118,\n",
       " 119,\n",
       " 120,\n",
       " 121,\n",
       " 122,\n",
       " 123,\n",
       " 124,\n",
       " 125,\n",
       " 126,\n",
       " 127,\n",
       " 128,\n",
       " 129,\n",
       " 130,\n",
       " 131,\n",
       " 132,\n",
       " 133,\n",
       " 134,\n",
       " 135,\n",
       " 136,\n",
       " 137,\n",
       " 138,\n",
       " 139,\n",
       " 140,\n",
       " 141,\n",
       " 142,\n",
       " 143,\n",
       " 144,\n",
       " 145,\n",
       " 146,\n",
       " 147,\n",
       " 148,\n",
       " 149,\n",
       " 150,\n",
       " 151,\n",
       " 152,\n",
       " 153,\n",
       " 154,\n",
       " 155,\n",
       " 156,\n",
       " 157,\n",
       " 158,\n",
       " 159,\n",
       " 160,\n",
       " 161,\n",
       " 162,\n",
       " 163,\n",
       " 164,\n",
       " 165,\n",
       " 166,\n",
       " 167,\n",
       " 168,\n",
       " 169,\n",
       " 170,\n",
       " 171,\n",
       " 172,\n",
       " 173,\n",
       " 174,\n",
       " 175,\n",
       " 176,\n",
       " 177,\n",
       " 178,\n",
       " 179,\n",
       " 180,\n",
       " 181,\n",
       " 182,\n",
       " 183,\n",
       " 184,\n",
       " 185,\n",
       " 186,\n",
       " 187,\n",
       " 188,\n",
       " 189,\n",
       " 190,\n",
       " 191,\n",
       " 192,\n",
       " 193,\n",
       " 194,\n",
       " 195,\n",
       " 196,\n",
       " 197,\n",
       " 198]"
      ]
     },
     "execution_count": 26,
     "metadata": {},
     "output_type": "execute_result"
    }
   ],
   "source": [
    "Y = list(df.index)\n",
    "Y"
   ]
  },
  {
   "cell_type": "markdown",
   "metadata": {},
   "source": [
    "#### Feature scaling the dataset"
   ]
  },
  {
   "cell_type": "code",
   "execution_count": 27,
   "metadata": {},
   "outputs": [],
   "source": [
    "from sklearn.preprocessing import StandardScaler"
   ]
  },
  {
   "cell_type": "code",
   "execution_count": 28,
   "metadata": {},
   "outputs": [],
   "source": [
    "sc = StandardScaler()\n",
    "df1 = sc.fit_transform(df)"
   ]
  },
  {
   "cell_type": "code",
   "execution_count": 29,
   "metadata": {},
   "outputs": [
    {
     "data": {
      "text/plain": [
       "array([[-1.42541358, -1.77917141, -0.43598941],\n",
       "       [-1.2823665 , -1.77917141,  1.19941337],\n",
       "       [-1.35389004, -1.73944701, -1.72094874],\n",
       "       [-1.13931942, -1.73944701,  1.04366072],\n",
       "       [-0.5671311 , -1.69972262, -0.39705125],\n",
       "       [-1.21084296, -1.69972262,  1.00472256],\n",
       "       [-0.28103694, -1.65999822, -1.72094874],\n",
       "       [-1.13931942, -1.65999822,  1.70560947],\n",
       "       [ 1.79314572, -1.62027383, -1.83776323],\n",
       "       [-0.63865464, -1.62027383,  0.84896992],\n",
       "       [ 2.00771635, -1.62027383, -1.40944345],\n",
       "       [-0.28103694, -1.62027383,  1.90030028],\n",
       "       [ 1.36400448, -1.58054943, -1.37050529],\n",
       "       [-1.06779588, -1.58054943,  1.04366072],\n",
       "       [-0.13798986, -1.58054943, -1.44838161],\n",
       "       [-1.21084296, -1.58054943,  1.12153705],\n",
       "       [-0.28103694, -1.54082504, -0.59174206],\n",
       "       [-1.35389004, -1.54082504,  0.61534095],\n",
       "       [ 0.93486324, -1.46137625, -0.82537103],\n",
       "       [-0.28103694, -1.46137625,  1.86136212],\n",
       "       [-0.28103694, -1.42165185, -0.59174206],\n",
       "       [-0.99627234, -1.42165185,  0.88790808],\n",
       "       [ 0.505722  , -1.38192745, -1.75988691],\n",
       "       [-0.5671311 , -1.38192745,  0.88790808],\n",
       "       [ 1.07791032, -1.26275427, -1.40944345],\n",
       "       [-0.71017818, -1.26275427,  1.23835153],\n",
       "       [ 0.43419846, -1.26275427, -0.70855655],\n",
       "       [-0.28103694, -1.26275427,  0.42065014],\n",
       "       [ 0.07658076, -1.22302987, -0.74749471],\n",
       "       [-1.13931942, -1.22302987,  1.43304234],\n",
       "       [ 1.50705156, -1.18330548, -1.79882507],\n",
       "       [-1.2823665 , -1.18330548,  0.88790808],\n",
       "       [ 1.00638678, -1.06413229, -1.79882507],\n",
       "       [-1.49693712, -1.06413229,  1.62773315],\n",
       "       [ 0.72029262, -1.06413229, -1.40944345],\n",
       "       [-1.2823665 , -1.06413229,  1.19941337],\n",
       "       [ 0.21962784, -1.0244079 , -1.29262897],\n",
       "       [-0.63865464, -1.0244079 ,  0.88790808],\n",
       "       [-0.2095134 , -0.90523471, -0.94218551],\n",
       "       [-1.35389004, -0.90523471,  0.9657844 ],\n",
       "       [ 1.86466927, -0.86551031, -0.59174206],\n",
       "       [-1.06779588, -0.86551031,  1.62773315],\n",
       "       [ 0.64876908, -0.82578592, -0.5528039 ],\n",
       "       [-0.5671311 , -0.82578592,  0.42065014],\n",
       "       [ 0.72029262, -0.82578592, -0.86430919],\n",
       "       [-1.06779588, -0.82578592,  0.57640278],\n",
       "       [ 0.79181616, -0.78606152,  0.18702117],\n",
       "       [-0.85322526, -0.78606152, -0.12448412],\n",
       "       [-0.71017818, -0.78606152, -0.31917493],\n",
       "       [-0.5671311 , -0.78606152, -0.31917493],\n",
       "       [ 0.72029262, -0.70661273,  0.07020669],\n",
       "       [-0.42408402, -0.70661273,  0.38171198],\n",
       "       [-0.5671311 , -0.66688834,  0.14808301],\n",
       "       [ 1.43552802, -0.66688834,  0.38171198],\n",
       "       [ 0.79181616, -0.66688834, -0.20236045],\n",
       "       [ 0.57724554, -0.66688834, -0.35811309],\n",
       "       [ 0.8633397 , -0.62716394, -0.00766964],\n",
       "       [ 2.15076343, -0.62716394, -0.16342228],\n",
       "       [-0.85322526, -0.54771515,  0.03126852],\n",
       "       [ 1.00638678, -0.54771515, -0.16342228],\n",
       "       [ 2.22228697, -0.54771515,  0.22595933],\n",
       "       [-1.42541358, -0.54771515,  0.18702117],\n",
       "       [ 2.00771635, -0.50799075,  0.07020669],\n",
       "       [ 1.07791032, -0.50799075,  0.34277382],\n",
       "       [ 1.72162218, -0.46826636,  0.03126852],\n",
       "       [-1.49693712, -0.46826636,  0.34277382],\n",
       "       [ 0.29115138, -0.46826636, -0.00766964],\n",
       "       [ 2.07923989, -0.46826636, -0.08554596],\n",
       "       [-1.42541358, -0.46826636,  0.34277382],\n",
       "       [-0.49560756, -0.46826636, -0.12448412],\n",
       "       [ 2.22228697, -0.42854196,  0.18702117],\n",
       "       [ 0.57724554, -0.42854196, -0.31917493],\n",
       "       [ 1.50705156, -0.38881757, -0.0466078 ],\n",
       "       [ 1.50705156, -0.38881757,  0.22595933],\n",
       "       [ 1.43552802, -0.22991999, -0.12448412],\n",
       "       [-0.9247488 , -0.22991999,  0.14808301],\n",
       "       [ 0.43419846, -0.22991999,  0.10914485],\n",
       "       [ 0.07658076, -0.22991999, -0.08554596],\n",
       "       [-1.13931942, -0.22991999,  0.07020669],\n",
       "       [ 0.72029262, -0.22991999, -0.31917493],\n",
       "       [ 1.29248094, -0.22991999,  0.03126852],\n",
       "       [-0.06646632, -0.22991999,  0.18702117],\n",
       "       [ 2.00771635, -0.22991999, -0.35811309],\n",
       "       [ 0.505722  , -0.22991999, -0.24129861],\n",
       "       [-1.2823665 , -0.22991999,  0.26489749],\n",
       "       [ 0.64876908, -0.22991999, -0.16342228],\n",
       "       [ 1.14943386, -0.1107468 ,  0.30383565],\n",
       "       [-1.21084296, -0.1107468 ,  0.18702117],\n",
       "       [-0.35256048, -0.0710224 ,  0.38171198],\n",
       "       [ 0.79181616, -0.0710224 , -0.16342228],\n",
       "       [ 2.07923989, -0.03129801,  0.18702117],\n",
       "       [-1.49693712, -0.03129801, -0.35811309],\n",
       "       [ 0.64876908,  0.00842639, -0.0466078 ],\n",
       "       [ 0.07658076,  0.00842639, -0.39705125],\n",
       "       [-0.49560756,  0.00842639, -0.31917493],\n",
       "       [-1.06779588,  0.00842639,  0.07020669],\n",
       "       [ 0.57724554,  0.00842639, -0.12448412],\n",
       "       [-0.85322526,  0.00842639, -0.00766964],\n",
       "       [ 0.64876908,  0.04815078, -0.31917493],\n",
       "       [-1.35389004,  0.04815078, -0.0466078 ],\n",
       "       [-1.13931942,  0.08787518, -0.35811309],\n",
       "       [ 0.72029262,  0.08787518, -0.08554596],\n",
       "       [ 2.00771635,  0.08787518,  0.34277382],\n",
       "       [-0.9247488 ,  0.08787518,  0.18702117],\n",
       "       [ 0.72029262,  0.08787518,  0.22595933],\n",
       "       [-1.2823665 ,  0.08787518, -0.31917493],\n",
       "       [ 1.93619281,  0.12759957, -0.00766964],\n",
       "       [ 1.07791032,  0.12759957, -0.16342228],\n",
       "       [ 2.07923989,  0.12759957, -0.28023677],\n",
       "       [ 1.93619281,  0.12759957, -0.08554596],\n",
       "       [ 1.86466927,  0.12759957,  0.07020669],\n",
       "       [-1.42541358,  0.12759957,  0.14808301],\n",
       "       [-0.06646632,  0.16732397, -0.31917493],\n",
       "       [-1.42541358,  0.16732397, -0.16342228],\n",
       "       [-1.49693712,  0.20704836, -0.08554596],\n",
       "       [-1.42541358,  0.20704836, -0.00766964],\n",
       "       [ 1.72162218,  0.20704836, -0.28023677],\n",
       "       [ 0.72029262,  0.20704836,  0.34277382],\n",
       "       [ 0.8633397 ,  0.28649716, -0.28023677],\n",
       "       [ 0.79181616,  0.28649716,  0.26489749],\n",
       "       [-0.85322526,  0.28649716,  0.22595933],\n",
       "       [-0.06646632,  0.28649716, -0.39705125],\n",
       "       [ 0.07658076,  0.36594595,  0.30383565],\n",
       "       [ 0.00505722,  0.36594595,  1.58879498],\n",
       "       [-1.13931942,  0.40567034, -0.82537103],\n",
       "       [-0.5671311 ,  0.40567034,  1.04366072],\n",
       "       [ 0.29115138,  0.44539474, -0.59174206],\n",
       "       [ 0.07658076,  0.44539474,  1.74454763],\n",
       "       [ 1.43552802,  0.44539474, -1.52625794],\n",
       "       [-0.06646632,  0.44539474,  0.9657844 ],\n",
       "       [ 0.57724554,  0.44539474, -1.60413426],\n",
       "       [ 0.00505722,  0.44539474,  0.9657844 ],\n",
       "       [-0.99627234,  0.48511913, -0.63068022],\n",
       "       [-0.5671311 ,  0.48511913,  0.81003175],\n",
       "       [-1.35389004,  0.52484353, -1.75988691],\n",
       "       [-0.71017818,  0.52484353,  1.4719805 ],\n",
       "       [ 0.36267492,  0.52484353, -1.68201058],\n",
       "       [-0.49560756,  0.52484353,  0.88790808],\n",
       "       [-1.42541358,  0.56456792, -1.5651961 ],\n",
       "       [-0.28103694,  0.56456792,  0.84896992],\n",
       "       [ 1.29248094,  0.60429232, -1.75988691],\n",
       "       [-0.49560756,  0.60429232,  1.66667131],\n",
       "       [-0.78170172,  0.64401671, -0.39705125],\n",
       "       [-0.49560756,  0.64401671,  1.43304234],\n",
       "       [-0.99627234,  0.68374111, -1.48731978],\n",
       "       [-0.78170172,  0.68374111,  1.82242395],\n",
       "       [ 0.64876908,  0.68374111, -0.5528039 ],\n",
       "       [-0.49560756,  0.68374111,  0.92684624],\n",
       "       [-0.35256048,  0.72346551, -1.09793816],\n",
       "       [-0.35256048,  0.72346551,  1.54985682],\n",
       "       [ 0.29115138,  0.72346551, -1.29262897],\n",
       "       [ 0.00505722,  0.72346551,  1.4719805 ],\n",
       "       [ 0.36267492,  0.72346551, -1.17581448],\n",
       "       [-0.06646632,  0.72346551,  1.00472256],\n",
       "       [ 0.57724554,  0.72346551, -1.33156713],\n",
       "       [-0.85322526,  0.72346551,  1.51091866],\n",
       "       [-0.13798986,  0.72346551, -1.91563955],\n",
       "       [-0.63865464,  0.72346551,  1.08259888],\n",
       "       [-0.35256048,  0.72346551, -1.91563955],\n",
       "       [-0.63865464,  0.72346551,  0.88790808],\n",
       "       [ 1.2209574 ,  0.7631899 , -0.59174206],\n",
       "       [-0.71017818,  0.7631899 ,  1.27728969],\n",
       "       [-1.42541358,  0.84263869, -1.75988691],\n",
       "       [-0.5671311 ,  0.84263869,  1.66667131],\n",
       "       [ 0.79181616,  1.00153627, -0.94218551],\n",
       "       [-0.2095134 ,  1.00153627,  0.9657844 ],\n",
       "       [ 0.21962784,  1.04126067, -1.17581448],\n",
       "       [-0.42408402,  1.04126067,  1.74454763],\n",
       "       [-0.2095134 ,  1.08098506, -0.90324735],\n",
       "       [-0.49560756,  1.08098506,  0.49852646],\n",
       "       [ 0.07658076,  1.08098506, -1.44838161],\n",
       "       [-0.78170172,  1.08098506,  0.9657844 ],\n",
       "       [-0.2095134 ,  1.08098506, -1.5651961 ],\n",
       "       [-0.2095134 ,  1.08098506,  1.62773315],\n",
       "       [ 0.93486324,  1.12070946, -1.44838161],\n",
       "       [-0.63865464,  1.12070946,  1.39410418],\n",
       "       [ 1.36400448,  1.12070946, -1.37050529],\n",
       "       [-0.85322526,  1.12070946,  0.73215543],\n",
       "       [ 1.43552802,  1.31933144, -1.40944345],\n",
       "       [-0.28103694,  1.31933144,  1.54985682],\n",
       "       [-0.13798986,  1.47822902, -0.70855655],\n",
       "       [-0.49560756,  1.47822902,  1.39410418],\n",
       "       [ 0.505722  ,  1.51795342, -1.37050529],\n",
       "       [-0.71017818,  1.51795342,  1.4719805 ],\n",
       "       [ 0.1481043 ,  1.55767781, -0.43598941],\n",
       "       [-0.63865464,  1.55767781,  1.82242395],\n",
       "       [ 1.07791032,  1.6371266 , -1.02006184],\n",
       "       [-0.78170172,  1.6371266 ,  0.69321727],\n",
       "       [ 0.1481043 ,  1.71657539, -1.29262897],\n",
       "       [-0.2095134 ,  1.71657539,  1.35516602],\n",
       "       [-0.35256048,  1.71657539, -1.059     ],\n",
       "       [-0.49560756,  1.71657539,  0.73215543],\n",
       "       [-0.42408402,  2.11381935, -1.64307242],\n",
       "       [-0.06646632,  2.11381935,  1.58879498],\n",
       "       [ 0.57724554,  2.39189012, -1.33156713],\n",
       "       [-0.28103694,  2.39189012,  1.12153705],\n",
       "       [ 0.43419846,  2.63023649, -0.86430919],\n",
       "       [-0.49560756,  2.63023649,  0.92684624]])"
      ]
     },
     "execution_count": 29,
     "metadata": {},
     "output_type": "execute_result"
    }
   ],
   "source": [
    "df1"
   ]
  },
  {
   "cell_type": "code",
   "execution_count": 30,
   "metadata": {},
   "outputs": [],
   "source": [
    "scaled_df = pd.DataFrame({'Age':df1[:,0], 'Annual Income':df1[:,1], 'Spending Score':df1[:,2]})"
   ]
  },
  {
   "cell_type": "code",
   "execution_count": 31,
   "metadata": {},
   "outputs": [
    {
     "data": {
      "text/html": [
       "<div>\n",
       "<style scoped>\n",
       "    .dataframe tbody tr th:only-of-type {\n",
       "        vertical-align: middle;\n",
       "    }\n",
       "\n",
       "    .dataframe tbody tr th {\n",
       "        vertical-align: top;\n",
       "    }\n",
       "\n",
       "    .dataframe thead th {\n",
       "        text-align: right;\n",
       "    }\n",
       "</style>\n",
       "<table border=\"1\" class=\"dataframe\">\n",
       "  <thead>\n",
       "    <tr style=\"text-align: right;\">\n",
       "      <th></th>\n",
       "      <th>Age</th>\n",
       "      <th>Annual Income</th>\n",
       "      <th>Spending Score</th>\n",
       "    </tr>\n",
       "  </thead>\n",
       "  <tbody>\n",
       "    <tr>\n",
       "      <th>0</th>\n",
       "      <td>-1.425414</td>\n",
       "      <td>-1.779171</td>\n",
       "      <td>-0.435989</td>\n",
       "    </tr>\n",
       "    <tr>\n",
       "      <th>1</th>\n",
       "      <td>-1.282367</td>\n",
       "      <td>-1.779171</td>\n",
       "      <td>1.199413</td>\n",
       "    </tr>\n",
       "    <tr>\n",
       "      <th>2</th>\n",
       "      <td>-1.353890</td>\n",
       "      <td>-1.739447</td>\n",
       "      <td>-1.720949</td>\n",
       "    </tr>\n",
       "    <tr>\n",
       "      <th>3</th>\n",
       "      <td>-1.139319</td>\n",
       "      <td>-1.739447</td>\n",
       "      <td>1.043661</td>\n",
       "    </tr>\n",
       "    <tr>\n",
       "      <th>4</th>\n",
       "      <td>-0.567131</td>\n",
       "      <td>-1.699723</td>\n",
       "      <td>-0.397051</td>\n",
       "    </tr>\n",
       "    <tr>\n",
       "      <th>5</th>\n",
       "      <td>-1.210843</td>\n",
       "      <td>-1.699723</td>\n",
       "      <td>1.004723</td>\n",
       "    </tr>\n",
       "    <tr>\n",
       "      <th>6</th>\n",
       "      <td>-0.281037</td>\n",
       "      <td>-1.659998</td>\n",
       "      <td>-1.720949</td>\n",
       "    </tr>\n",
       "    <tr>\n",
       "      <th>7</th>\n",
       "      <td>-1.139319</td>\n",
       "      <td>-1.659998</td>\n",
       "      <td>1.705609</td>\n",
       "    </tr>\n",
       "    <tr>\n",
       "      <th>8</th>\n",
       "      <td>1.793146</td>\n",
       "      <td>-1.620274</td>\n",
       "      <td>-1.837763</td>\n",
       "    </tr>\n",
       "    <tr>\n",
       "      <th>9</th>\n",
       "      <td>-0.638655</td>\n",
       "      <td>-1.620274</td>\n",
       "      <td>0.848970</td>\n",
       "    </tr>\n",
       "    <tr>\n",
       "      <th>10</th>\n",
       "      <td>2.007716</td>\n",
       "      <td>-1.620274</td>\n",
       "      <td>-1.409443</td>\n",
       "    </tr>\n",
       "    <tr>\n",
       "      <th>11</th>\n",
       "      <td>-0.281037</td>\n",
       "      <td>-1.620274</td>\n",
       "      <td>1.900300</td>\n",
       "    </tr>\n",
       "    <tr>\n",
       "      <th>12</th>\n",
       "      <td>1.364004</td>\n",
       "      <td>-1.580549</td>\n",
       "      <td>-1.370505</td>\n",
       "    </tr>\n",
       "    <tr>\n",
       "      <th>13</th>\n",
       "      <td>-1.067796</td>\n",
       "      <td>-1.580549</td>\n",
       "      <td>1.043661</td>\n",
       "    </tr>\n",
       "    <tr>\n",
       "      <th>14</th>\n",
       "      <td>-0.137990</td>\n",
       "      <td>-1.580549</td>\n",
       "      <td>-1.448382</td>\n",
       "    </tr>\n",
       "    <tr>\n",
       "      <th>15</th>\n",
       "      <td>-1.210843</td>\n",
       "      <td>-1.580549</td>\n",
       "      <td>1.121537</td>\n",
       "    </tr>\n",
       "    <tr>\n",
       "      <th>16</th>\n",
       "      <td>-0.281037</td>\n",
       "      <td>-1.540825</td>\n",
       "      <td>-0.591742</td>\n",
       "    </tr>\n",
       "    <tr>\n",
       "      <th>17</th>\n",
       "      <td>-1.353890</td>\n",
       "      <td>-1.540825</td>\n",
       "      <td>0.615341</td>\n",
       "    </tr>\n",
       "    <tr>\n",
       "      <th>18</th>\n",
       "      <td>0.934863</td>\n",
       "      <td>-1.461376</td>\n",
       "      <td>-0.825371</td>\n",
       "    </tr>\n",
       "    <tr>\n",
       "      <th>19</th>\n",
       "      <td>-0.281037</td>\n",
       "      <td>-1.461376</td>\n",
       "      <td>1.861362</td>\n",
       "    </tr>\n",
       "  </tbody>\n",
       "</table>\n",
       "</div>"
      ],
      "text/plain": [
       "         Age  Annual Income  Spending Score\n",
       "0  -1.425414      -1.779171       -0.435989\n",
       "1  -1.282367      -1.779171        1.199413\n",
       "2  -1.353890      -1.739447       -1.720949\n",
       "3  -1.139319      -1.739447        1.043661\n",
       "4  -0.567131      -1.699723       -0.397051\n",
       "5  -1.210843      -1.699723        1.004723\n",
       "6  -0.281037      -1.659998       -1.720949\n",
       "7  -1.139319      -1.659998        1.705609\n",
       "8   1.793146      -1.620274       -1.837763\n",
       "9  -0.638655      -1.620274        0.848970\n",
       "10  2.007716      -1.620274       -1.409443\n",
       "11 -0.281037      -1.620274        1.900300\n",
       "12  1.364004      -1.580549       -1.370505\n",
       "13 -1.067796      -1.580549        1.043661\n",
       "14 -0.137990      -1.580549       -1.448382\n",
       "15 -1.210843      -1.580549        1.121537\n",
       "16 -0.281037      -1.540825       -0.591742\n",
       "17 -1.353890      -1.540825        0.615341\n",
       "18  0.934863      -1.461376       -0.825371\n",
       "19 -0.281037      -1.461376        1.861362"
      ]
     },
     "execution_count": 31,
     "metadata": {},
     "output_type": "execute_result"
    }
   ],
   "source": [
    "scaled_df.head(20)"
   ]
  },
  {
   "cell_type": "code",
   "execution_count": 32,
   "metadata": {},
   "outputs": [],
   "source": [
    "scaled_df['CustomerID'] = Y"
   ]
  },
  {
   "cell_type": "code",
   "execution_count": 33,
   "metadata": {},
   "outputs": [
    {
     "data": {
      "text/plain": [
       "(198, 4)"
      ]
     },
     "execution_count": 33,
     "metadata": {},
     "output_type": "execute_result"
    }
   ],
   "source": [
    "scaled_df.shape"
   ]
  },
  {
   "cell_type": "code",
   "execution_count": 34,
   "metadata": {},
   "outputs": [
    {
     "data": {
      "text/html": [
       "<div>\n",
       "<style scoped>\n",
       "    .dataframe tbody tr th:only-of-type {\n",
       "        vertical-align: middle;\n",
       "    }\n",
       "\n",
       "    .dataframe tbody tr th {\n",
       "        vertical-align: top;\n",
       "    }\n",
       "\n",
       "    .dataframe thead th {\n",
       "        text-align: right;\n",
       "    }\n",
       "</style>\n",
       "<table border=\"1\" class=\"dataframe\">\n",
       "  <thead>\n",
       "    <tr style=\"text-align: right;\">\n",
       "      <th></th>\n",
       "      <th>Age</th>\n",
       "      <th>Annual Income</th>\n",
       "      <th>Spending Score</th>\n",
       "      <th>CustomerID</th>\n",
       "    </tr>\n",
       "  </thead>\n",
       "  <tbody>\n",
       "    <tr>\n",
       "      <th>0</th>\n",
       "      <td>-1.425414</td>\n",
       "      <td>-1.779171</td>\n",
       "      <td>-0.435989</td>\n",
       "      <td>1</td>\n",
       "    </tr>\n",
       "    <tr>\n",
       "      <th>1</th>\n",
       "      <td>-1.282367</td>\n",
       "      <td>-1.779171</td>\n",
       "      <td>1.199413</td>\n",
       "      <td>2</td>\n",
       "    </tr>\n",
       "    <tr>\n",
       "      <th>2</th>\n",
       "      <td>-1.353890</td>\n",
       "      <td>-1.739447</td>\n",
       "      <td>-1.720949</td>\n",
       "      <td>3</td>\n",
       "    </tr>\n",
       "    <tr>\n",
       "      <th>3</th>\n",
       "      <td>-1.139319</td>\n",
       "      <td>-1.739447</td>\n",
       "      <td>1.043661</td>\n",
       "      <td>4</td>\n",
       "    </tr>\n",
       "    <tr>\n",
       "      <th>4</th>\n",
       "      <td>-0.567131</td>\n",
       "      <td>-1.699723</td>\n",
       "      <td>-0.397051</td>\n",
       "      <td>5</td>\n",
       "    </tr>\n",
       "    <tr>\n",
       "      <th>5</th>\n",
       "      <td>-1.210843</td>\n",
       "      <td>-1.699723</td>\n",
       "      <td>1.004723</td>\n",
       "      <td>6</td>\n",
       "    </tr>\n",
       "    <tr>\n",
       "      <th>6</th>\n",
       "      <td>-0.281037</td>\n",
       "      <td>-1.659998</td>\n",
       "      <td>-1.720949</td>\n",
       "      <td>7</td>\n",
       "    </tr>\n",
       "    <tr>\n",
       "      <th>7</th>\n",
       "      <td>-1.139319</td>\n",
       "      <td>-1.659998</td>\n",
       "      <td>1.705609</td>\n",
       "      <td>8</td>\n",
       "    </tr>\n",
       "    <tr>\n",
       "      <th>8</th>\n",
       "      <td>1.793146</td>\n",
       "      <td>-1.620274</td>\n",
       "      <td>-1.837763</td>\n",
       "      <td>9</td>\n",
       "    </tr>\n",
       "    <tr>\n",
       "      <th>9</th>\n",
       "      <td>-0.638655</td>\n",
       "      <td>-1.620274</td>\n",
       "      <td>0.848970</td>\n",
       "      <td>10</td>\n",
       "    </tr>\n",
       "  </tbody>\n",
       "</table>\n",
       "</div>"
      ],
      "text/plain": [
       "        Age  Annual Income  Spending Score  CustomerID\n",
       "0 -1.425414      -1.779171       -0.435989           1\n",
       "1 -1.282367      -1.779171        1.199413           2\n",
       "2 -1.353890      -1.739447       -1.720949           3\n",
       "3 -1.139319      -1.739447        1.043661           4\n",
       "4 -0.567131      -1.699723       -0.397051           5\n",
       "5 -1.210843      -1.699723        1.004723           6\n",
       "6 -0.281037      -1.659998       -1.720949           7\n",
       "7 -1.139319      -1.659998        1.705609           8\n",
       "8  1.793146      -1.620274       -1.837763           9\n",
       "9 -0.638655      -1.620274        0.848970          10"
      ]
     },
     "execution_count": 34,
     "metadata": {},
     "output_type": "execute_result"
    }
   ],
   "source": [
    "scaled_df.head(10)"
   ]
  },
  {
   "cell_type": "code",
   "execution_count": 35,
   "metadata": {},
   "outputs": [
    {
     "data": {
      "text/html": [
       "<div>\n",
       "<style scoped>\n",
       "    .dataframe tbody tr th:only-of-type {\n",
       "        vertical-align: middle;\n",
       "    }\n",
       "\n",
       "    .dataframe tbody tr th {\n",
       "        vertical-align: top;\n",
       "    }\n",
       "\n",
       "    .dataframe thead th {\n",
       "        text-align: right;\n",
       "    }\n",
       "</style>\n",
       "<table border=\"1\" class=\"dataframe\">\n",
       "  <thead>\n",
       "    <tr style=\"text-align: right;\">\n",
       "      <th></th>\n",
       "      <th>Age</th>\n",
       "      <th>Annual Income</th>\n",
       "      <th>Spending Score</th>\n",
       "    </tr>\n",
       "    <tr>\n",
       "      <th>CustomerID</th>\n",
       "      <th></th>\n",
       "      <th></th>\n",
       "      <th></th>\n",
       "    </tr>\n",
       "  </thead>\n",
       "  <tbody>\n",
       "    <tr>\n",
       "      <th>1</th>\n",
       "      <td>-1.425414</td>\n",
       "      <td>-1.779171</td>\n",
       "      <td>-0.435989</td>\n",
       "    </tr>\n",
       "    <tr>\n",
       "      <th>2</th>\n",
       "      <td>-1.282367</td>\n",
       "      <td>-1.779171</td>\n",
       "      <td>1.199413</td>\n",
       "    </tr>\n",
       "    <tr>\n",
       "      <th>3</th>\n",
       "      <td>-1.353890</td>\n",
       "      <td>-1.739447</td>\n",
       "      <td>-1.720949</td>\n",
       "    </tr>\n",
       "    <tr>\n",
       "      <th>4</th>\n",
       "      <td>-1.139319</td>\n",
       "      <td>-1.739447</td>\n",
       "      <td>1.043661</td>\n",
       "    </tr>\n",
       "    <tr>\n",
       "      <th>5</th>\n",
       "      <td>-0.567131</td>\n",
       "      <td>-1.699723</td>\n",
       "      <td>-0.397051</td>\n",
       "    </tr>\n",
       "    <tr>\n",
       "      <th>...</th>\n",
       "      <td>...</td>\n",
       "      <td>...</td>\n",
       "      <td>...</td>\n",
       "    </tr>\n",
       "    <tr>\n",
       "      <th>194</th>\n",
       "      <td>-0.066466</td>\n",
       "      <td>2.113819</td>\n",
       "      <td>1.588795</td>\n",
       "    </tr>\n",
       "    <tr>\n",
       "      <th>195</th>\n",
       "      <td>0.577246</td>\n",
       "      <td>2.391890</td>\n",
       "      <td>-1.331567</td>\n",
       "    </tr>\n",
       "    <tr>\n",
       "      <th>196</th>\n",
       "      <td>-0.281037</td>\n",
       "      <td>2.391890</td>\n",
       "      <td>1.121537</td>\n",
       "    </tr>\n",
       "    <tr>\n",
       "      <th>197</th>\n",
       "      <td>0.434198</td>\n",
       "      <td>2.630236</td>\n",
       "      <td>-0.864309</td>\n",
       "    </tr>\n",
       "    <tr>\n",
       "      <th>198</th>\n",
       "      <td>-0.495608</td>\n",
       "      <td>2.630236</td>\n",
       "      <td>0.926846</td>\n",
       "    </tr>\n",
       "  </tbody>\n",
       "</table>\n",
       "<p>198 rows × 3 columns</p>\n",
       "</div>"
      ],
      "text/plain": [
       "                 Age  Annual Income  Spending Score\n",
       "CustomerID                                         \n",
       "1          -1.425414      -1.779171       -0.435989\n",
       "2          -1.282367      -1.779171        1.199413\n",
       "3          -1.353890      -1.739447       -1.720949\n",
       "4          -1.139319      -1.739447        1.043661\n",
       "5          -0.567131      -1.699723       -0.397051\n",
       "...              ...            ...             ...\n",
       "194        -0.066466       2.113819        1.588795\n",
       "195         0.577246       2.391890       -1.331567\n",
       "196        -0.281037       2.391890        1.121537\n",
       "197         0.434198       2.630236       -0.864309\n",
       "198        -0.495608       2.630236        0.926846\n",
       "\n",
       "[198 rows x 3 columns]"
      ]
     },
     "execution_count": 35,
     "metadata": {},
     "output_type": "execute_result"
    }
   ],
   "source": [
    "scaled_df = scaled_df.set_index('CustomerID')\n",
    "scaled_df"
   ]
  },
  {
   "cell_type": "code",
   "execution_count": 36,
   "metadata": {},
   "outputs": [
    {
     "data": {
      "text/plain": [
       "CustomerID\n",
       "1      1\n",
       "2      1\n",
       "3      0\n",
       "4      0\n",
       "5      0\n",
       "      ..\n",
       "194    0\n",
       "195    0\n",
       "196    0\n",
       "197    0\n",
       "198    1\n",
       "Name: Gender_Male, Length: 198, dtype: uint8"
      ]
     },
     "execution_count": 36,
     "metadata": {},
     "output_type": "execute_result"
    }
   ],
   "source": [
    "X"
   ]
  },
  {
   "cell_type": "code",
   "execution_count": 37,
   "metadata": {},
   "outputs": [
    {
     "data": {
      "text/plain": [
       "dtype('uint8')"
      ]
     },
     "execution_count": 37,
     "metadata": {},
     "output_type": "execute_result"
    }
   ],
   "source": [
    "X.dtypes"
   ]
  },
  {
   "cell_type": "code",
   "execution_count": 38,
   "metadata": {},
   "outputs": [],
   "source": [
    "scaled_df['Gender_Male'] = X"
   ]
  },
  {
   "cell_type": "code",
   "execution_count": 39,
   "metadata": {},
   "outputs": [
    {
     "data": {
      "text/html": [
       "<div>\n",
       "<style scoped>\n",
       "    .dataframe tbody tr th:only-of-type {\n",
       "        vertical-align: middle;\n",
       "    }\n",
       "\n",
       "    .dataframe tbody tr th {\n",
       "        vertical-align: top;\n",
       "    }\n",
       "\n",
       "    .dataframe thead th {\n",
       "        text-align: right;\n",
       "    }\n",
       "</style>\n",
       "<table border=\"1\" class=\"dataframe\">\n",
       "  <thead>\n",
       "    <tr style=\"text-align: right;\">\n",
       "      <th></th>\n",
       "      <th>Age</th>\n",
       "      <th>Annual Income</th>\n",
       "      <th>Spending Score</th>\n",
       "      <th>Gender_Male</th>\n",
       "    </tr>\n",
       "    <tr>\n",
       "      <th>CustomerID</th>\n",
       "      <th></th>\n",
       "      <th></th>\n",
       "      <th></th>\n",
       "      <th></th>\n",
       "    </tr>\n",
       "  </thead>\n",
       "  <tbody>\n",
       "    <tr>\n",
       "      <th>1</th>\n",
       "      <td>-1.425414</td>\n",
       "      <td>-1.779171</td>\n",
       "      <td>-0.435989</td>\n",
       "      <td>1</td>\n",
       "    </tr>\n",
       "    <tr>\n",
       "      <th>2</th>\n",
       "      <td>-1.282367</td>\n",
       "      <td>-1.779171</td>\n",
       "      <td>1.199413</td>\n",
       "      <td>1</td>\n",
       "    </tr>\n",
       "    <tr>\n",
       "      <th>3</th>\n",
       "      <td>-1.353890</td>\n",
       "      <td>-1.739447</td>\n",
       "      <td>-1.720949</td>\n",
       "      <td>0</td>\n",
       "    </tr>\n",
       "    <tr>\n",
       "      <th>4</th>\n",
       "      <td>-1.139319</td>\n",
       "      <td>-1.739447</td>\n",
       "      <td>1.043661</td>\n",
       "      <td>0</td>\n",
       "    </tr>\n",
       "    <tr>\n",
       "      <th>5</th>\n",
       "      <td>-0.567131</td>\n",
       "      <td>-1.699723</td>\n",
       "      <td>-0.397051</td>\n",
       "      <td>0</td>\n",
       "    </tr>\n",
       "    <tr>\n",
       "      <th>6</th>\n",
       "      <td>-1.210843</td>\n",
       "      <td>-1.699723</td>\n",
       "      <td>1.004723</td>\n",
       "      <td>0</td>\n",
       "    </tr>\n",
       "    <tr>\n",
       "      <th>7</th>\n",
       "      <td>-0.281037</td>\n",
       "      <td>-1.659998</td>\n",
       "      <td>-1.720949</td>\n",
       "      <td>0</td>\n",
       "    </tr>\n",
       "    <tr>\n",
       "      <th>8</th>\n",
       "      <td>-1.139319</td>\n",
       "      <td>-1.659998</td>\n",
       "      <td>1.705609</td>\n",
       "      <td>0</td>\n",
       "    </tr>\n",
       "    <tr>\n",
       "      <th>9</th>\n",
       "      <td>1.793146</td>\n",
       "      <td>-1.620274</td>\n",
       "      <td>-1.837763</td>\n",
       "      <td>1</td>\n",
       "    </tr>\n",
       "    <tr>\n",
       "      <th>10</th>\n",
       "      <td>-0.638655</td>\n",
       "      <td>-1.620274</td>\n",
       "      <td>0.848970</td>\n",
       "      <td>0</td>\n",
       "    </tr>\n",
       "  </tbody>\n",
       "</table>\n",
       "</div>"
      ],
      "text/plain": [
       "                 Age  Annual Income  Spending Score  Gender_Male\n",
       "CustomerID                                                      \n",
       "1          -1.425414      -1.779171       -0.435989            1\n",
       "2          -1.282367      -1.779171        1.199413            1\n",
       "3          -1.353890      -1.739447       -1.720949            0\n",
       "4          -1.139319      -1.739447        1.043661            0\n",
       "5          -0.567131      -1.699723       -0.397051            0\n",
       "6          -1.210843      -1.699723        1.004723            0\n",
       "7          -0.281037      -1.659998       -1.720949            0\n",
       "8          -1.139319      -1.659998        1.705609            0\n",
       "9           1.793146      -1.620274       -1.837763            1\n",
       "10         -0.638655      -1.620274        0.848970            0"
      ]
     },
     "execution_count": 39,
     "metadata": {},
     "output_type": "execute_result"
    }
   ],
   "source": [
    "scaled_df.head(10)"
   ]
  },
  {
   "cell_type": "code",
   "execution_count": 40,
   "metadata": {},
   "outputs": [
    {
     "data": {
      "text/html": [
       "<div>\n",
       "<style scoped>\n",
       "    .dataframe tbody tr th:only-of-type {\n",
       "        vertical-align: middle;\n",
       "    }\n",
       "\n",
       "    .dataframe tbody tr th {\n",
       "        vertical-align: top;\n",
       "    }\n",
       "\n",
       "    .dataframe thead th {\n",
       "        text-align: right;\n",
       "    }\n",
       "</style>\n",
       "<table border=\"1\" class=\"dataframe\">\n",
       "  <thead>\n",
       "    <tr style=\"text-align: right;\">\n",
       "      <th></th>\n",
       "      <th>Age</th>\n",
       "      <th>Annual Income</th>\n",
       "      <th>Spending Score</th>\n",
       "      <th>Gender_Male</th>\n",
       "    </tr>\n",
       "  </thead>\n",
       "  <tbody>\n",
       "    <tr>\n",
       "      <th>count</th>\n",
       "      <td>1.980000e+02</td>\n",
       "      <td>1.980000e+02</td>\n",
       "      <td>1.980000e+02</td>\n",
       "      <td>198.000000</td>\n",
       "    </tr>\n",
       "    <tr>\n",
       "      <th>mean</th>\n",
       "      <td>1.056955e-16</td>\n",
       "      <td>1.480297e-16</td>\n",
       "      <td>5.326828e-17</td>\n",
       "      <td>0.434343</td>\n",
       "    </tr>\n",
       "    <tr>\n",
       "      <th>std</th>\n",
       "      <td>1.002535e+00</td>\n",
       "      <td>1.002535e+00</td>\n",
       "      <td>1.002535e+00</td>\n",
       "      <td>0.496927</td>\n",
       "    </tr>\n",
       "    <tr>\n",
       "      <th>min</th>\n",
       "      <td>-1.496937e+00</td>\n",
       "      <td>-1.779171e+00</td>\n",
       "      <td>-1.915640e+00</td>\n",
       "      <td>0.000000</td>\n",
       "    </tr>\n",
       "    <tr>\n",
       "      <th>25%</th>\n",
       "      <td>-7.638208e-01</td>\n",
       "      <td>-7.661993e-01</td>\n",
       "      <td>-5.917421e-01</td>\n",
       "      <td>0.000000</td>\n",
       "    </tr>\n",
       "    <tr>\n",
       "      <th>50%</th>\n",
       "      <td>-2.095134e-01</td>\n",
       "      <td>4.815078e-02</td>\n",
       "      <td>-7.669638e-03</td>\n",
       "      <td>0.000000</td>\n",
       "    </tr>\n",
       "    <tr>\n",
       "      <th>75%</th>\n",
       "      <td>7.202926e-01</td>\n",
       "      <td>7.135344e-01</td>\n",
       "      <td>8.781735e-01</td>\n",
       "      <td>1.000000</td>\n",
       "    </tr>\n",
       "    <tr>\n",
       "      <th>max</th>\n",
       "      <td>2.222287e+00</td>\n",
       "      <td>2.630236e+00</td>\n",
       "      <td>1.900300e+00</td>\n",
       "      <td>1.000000</td>\n",
       "    </tr>\n",
       "  </tbody>\n",
       "</table>\n",
       "</div>"
      ],
      "text/plain": [
       "                Age  Annual Income  Spending Score  Gender_Male\n",
       "count  1.980000e+02   1.980000e+02    1.980000e+02   198.000000\n",
       "mean   1.056955e-16   1.480297e-16    5.326828e-17     0.434343\n",
       "std    1.002535e+00   1.002535e+00    1.002535e+00     0.496927\n",
       "min   -1.496937e+00  -1.779171e+00   -1.915640e+00     0.000000\n",
       "25%   -7.638208e-01  -7.661993e-01   -5.917421e-01     0.000000\n",
       "50%   -2.095134e-01   4.815078e-02   -7.669638e-03     0.000000\n",
       "75%    7.202926e-01   7.135344e-01    8.781735e-01     1.000000\n",
       "max    2.222287e+00   2.630236e+00    1.900300e+00     1.000000"
      ]
     },
     "execution_count": 40,
     "metadata": {},
     "output_type": "execute_result"
    }
   ],
   "source": [
    "scaled_df.describe()"
   ]
  },
  {
   "cell_type": "code",
   "execution_count": 41,
   "metadata": {},
   "outputs": [],
   "source": [
    "scaled_df = scaled_df.drop_duplicates(keep='first')"
   ]
  },
  {
   "cell_type": "code",
   "execution_count": 42,
   "metadata": {},
   "outputs": [
    {
     "data": {
      "text/plain": [
       "(198, 4)"
      ]
     },
     "execution_count": 42,
     "metadata": {},
     "output_type": "execute_result"
    }
   ],
   "source": [
    "scaled_df.shape"
   ]
  },
  {
   "cell_type": "code",
   "execution_count": 43,
   "metadata": {},
   "outputs": [
    {
     "data": {
      "text/plain": [
       "<matplotlib.axes._subplots.AxesSubplot at 0x245ca943b50>"
      ]
     },
     "execution_count": 43,
     "metadata": {},
     "output_type": "execute_result"
    },
    {
     "data": {
      "image/png": "[encoded data removed]",
      "text/plain": [
       "<Figure size 432x288 with 1 Axes>"
      ]
     },
     "metadata": {
      "needs_background": "light"
     },
     "output_type": "display_data"
    }
   ],
   "source": [
    "import seaborn as sns\n",
    "sns.boxplot(x=scaled_df['Age'])"
   ]
  },
  {
   "cell_type": "code",
   "execution_count": 44,
   "metadata": {},
   "outputs": [
    {
     "data": {
      "text/plain": [
       "<matplotlib.axes._subplots.AxesSubplot at 0x245ca9a1e80>"
      ]
     },
     "execution_count": 44,
     "metadata": {},
     "output_type": "execute_result"
    },
    {
     "data": {
      "image/png": "[encoded data removed]",
      "text/plain": [
       "<Figure size 432x288 with 1 Axes>"
      ]
     },
     "metadata": {
      "needs_background": "light"
     },
     "output_type": "display_data"
    }
   ],
   "source": [
    "import seaborn as sns\n",
    "sns.boxplot(x=scaled_df['Annual Income'])"
   ]
  },
  {
   "cell_type": "code",
   "execution_count": 45,
   "metadata": {},
   "outputs": [
    {
     "data": {
      "text/plain": [
       "<matplotlib.axes._subplots.AxesSubplot at 0x245ca9e7ca0>"
      ]
     },
     "execution_count": 45,
     "metadata": {},
     "output_type": "execute_result"
    },
    {
     "data": {
      "image/png": "[encoded data removed]",
      "text/plain": [
       "<Figure size 432x288 with 1 Axes>"
      ]
     },
     "metadata": {
      "needs_background": "light"
     },
     "output_type": "display_data"
    }
   ],
   "source": [
    "import seaborn as sns\n",
    "sns.boxplot(x=scaled_df['Spending Score'])"
   ]
  },
  {
   "cell_type": "markdown",
   "metadata": {},
   "source": [
    "#### Determining the optimum number of clusters"
   ]
  },
  {
   "cell_type": "code",
   "execution_count": 46,
   "metadata": {},
   "outputs": [],
   "source": [
    "from scipy.spatial.distance import cdist"
   ]
  },
  {
   "cell_type": "code",
   "execution_count": 47,
   "metadata": {},
   "outputs": [],
   "source": [
    "clusters = range(1,11)\n",
    "mean_dist = []"
   ]
  },
  {
   "cell_type": "code",
   "execution_count": 48,
   "metadata": {},
   "outputs": [],
   "source": [
    "from sklearn.cluster import KMeans\n",
    "import numpy as np"
   ]
  },
  {
   "cell_type": "code",
   "execution_count": 49,
   "metadata": {},
   "outputs": [],
   "source": [
    "for k in clusters:\n",
    "    model = KMeans(n_clusters = k, init='k-means++', random_state=42)\n",
    "    model.fit(scaled_df)\n",
    "    mean_dist.append(sum(np.min(cdist(scaled_df, model.cluster_centers_, 'euclidean'), axis=1))/scaled_df.shape[0])"
   ]
  },
  {
   "cell_type": "markdown",
   "metadata": {},
   "source": [
    "#### Plotting the elbow curve"
   ]
  },
  {
   "cell_type": "code",
   "execution_count": 50,
   "metadata": {},
   "outputs": [],
   "source": [
    "from matplotlib import pyplot as plt"
   ]
  },
  {
   "cell_type": "code",
   "execution_count": 51,
   "metadata": {},
   "outputs": [
    {
     "data": {
      "text/plain": [
       "Text(0.5, 1.0, 'Elbow curve')"
      ]
     },
     "execution_count": 51,
     "metadata": {},
     "output_type": "execute_result"
    },
    {
     "data": {
      "image/png": "[encoded data removed]",
      "text/plain": [
       "<Figure size 432x288 with 1 Axes>"
      ]
     },
     "metadata": {
      "needs_background": "light"
     },
     "output_type": "display_data"
    }
   ],
   "source": [
    "plt.plot(clusters, mean_dist)\n",
    "plt.xlabel('Number of clsuters')\n",
    "plt.ylabel('Avg distance')\n",
    "plt.title('Elbow curve')"
   ]
  },
  {
   "cell_type": "markdown",
   "metadata": {},
   "source": [
    "#### From the above elbow curve, we have selected k=4 as the optimum number of clusters"
   ]
  },
  {
   "cell_type": "code",
   "execution_count": 52,
   "metadata": {},
   "outputs": [
    {
     "data": {
      "text/plain": [
       "array([3, 3, 3, 3, 3, 3, 1, 3, 1, 3, 1, 3, 1, 3, 1, 3, 3, 3, 1, 3, 3, 3,\n",
       "       1, 3, 1, 3, 1, 3, 1, 3, 1, 3, 1, 3, 1, 3, 1, 3, 1, 3, 1, 3, 1, 3,\n",
       "       1, 3, 1, 3, 3, 3, 1, 3, 3, 1, 1, 1, 1, 1, 3, 1, 1, 3, 1, 1, 1, 3,\n",
       "       1, 1, 3, 3, 1, 1, 1, 1, 1, 3, 1, 1, 3, 1, 1, 3, 1, 1, 3, 1, 1, 3,\n",
       "       3, 1, 1, 3, 1, 1, 3, 3, 1, 3, 1, 3, 3, 1, 1, 3, 1, 3, 1, 1, 1, 1,\n",
       "       1, 3, 2, 3, 3, 3, 1, 1, 1, 1, 3, 2, 0, 0, 2, 0, 2, 0, 2, 0, 2, 0,\n",
       "       2, 0, 2, 0, 2, 0, 2, 0, 2, 0, 2, 0, 2, 0, 2, 0, 2, 0, 2, 0, 2, 0,\n",
       "       2, 0, 2, 0, 2, 0, 1, 0, 2, 0, 2, 0, 2, 0, 2, 0, 2, 0, 2, 0, 2, 0,\n",
       "       2, 0, 2, 0, 2, 0, 2, 0, 2, 0, 2, 0, 2, 0, 2, 0, 2, 0, 2, 0, 2, 0])"
      ]
     },
     "execution_count": 52,
     "metadata": {},
     "output_type": "execute_result"
    }
   ],
   "source": [
    "model1 = KMeans(n_clusters = 4)\n",
    "model1.fit_predict(scaled_df)"
   ]
  },
  {
   "cell_type": "code",
   "execution_count": 53,
   "metadata": {},
   "outputs": [],
   "source": [
    "from sklearn.decomposition import PCA"
   ]
  },
  {
   "cell_type": "code",
   "execution_count": 54,
   "metadata": {},
   "outputs": [],
   "source": [
    "pca_2 = PCA(2)"
   ]
  },
  {
   "cell_type": "code",
   "execution_count": 55,
   "metadata": {},
   "outputs": [
    {
     "data": {
      "image/png": "[encoded data removed]",
      "text/plain": [
       "<Figure size 720x360 with 1 Axes>"
      ]
     },
     "metadata": {
      "needs_background": "light"
     },
     "output_type": "display_data"
    }
   ],
   "source": [
    "from matplotlib.colors import ListedColormap\n",
    "colours = ListedColormap(['r','b','g', 'y', 'm'])\n",
    "plt.figure(figsize=(10,5))\n",
    "plot_columns = pca_2.fit_transform(scaled_df)\n",
    "plt.scatter(x = plot_columns[:,0], y = plot_columns[:,1], c = model1.labels_, cmap=colours)\n",
    "plt.show()"
   ]
  },
  {
   "cell_type": "code",
   "execution_count": 56,
   "metadata": {},
   "outputs": [],
   "source": [
    "prediction = model1.predict(scaled_df)"
   ]
  },
  {
   "cell_type": "code",
   "execution_count": 57,
   "metadata": {},
   "outputs": [
    {
     "data": {
      "text/plain": [
       "array([3, 3, 3, 3, 3, 3, 1, 3, 1, 3, 1, 3, 1, 3, 1, 3, 3, 3, 1, 3, 3, 3,\n",
       "       1, 3, 1, 3, 1, 3, 1, 3, 1, 3, 1, 3, 1, 3, 1, 3, 1, 3, 1, 3, 1, 3,\n",
       "       1, 3, 1, 3, 3, 3, 1, 3, 3, 1, 1, 1, 1, 1, 3, 1, 1, 3, 1, 1, 1, 3,\n",
       "       1, 1, 3, 3, 1, 1, 1, 1, 1, 3, 1, 1, 3, 1, 1, 3, 1, 1, 3, 1, 1, 3,\n",
       "       3, 1, 1, 3, 1, 1, 3, 3, 1, 3, 1, 3, 3, 1, 1, 3, 1, 3, 1, 1, 1, 1,\n",
       "       1, 3, 2, 3, 3, 3, 1, 1, 1, 1, 3, 2, 0, 0, 2, 0, 2, 0, 2, 0, 2, 0,\n",
       "       2, 0, 2, 0, 2, 0, 2, 0, 2, 0, 2, 0, 2, 0, 2, 0, 2, 0, 2, 0, 2, 0,\n",
       "       2, 0, 2, 0, 2, 0, 1, 0, 2, 0, 2, 0, 2, 0, 2, 0, 2, 0, 2, 0, 2, 0,\n",
       "       2, 0, 2, 0, 2, 0, 2, 0, 2, 0, 2, 0, 2, 0, 2, 0, 2, 0, 2, 0, 2, 0])"
      ]
     },
     "execution_count": 57,
     "metadata": {},
     "output_type": "execute_result"
    }
   ],
   "source": [
    "prediction"
   ]
  },
  {
   "cell_type": "code",
   "execution_count": 58,
   "metadata": {},
   "outputs": [
    {
     "data": {
      "text/plain": [
       "(198,)"
      ]
     },
     "execution_count": 58,
     "metadata": {},
     "output_type": "execute_result"
    }
   ],
   "source": [
    "prediction.shape"
   ]
  },
  {
   "cell_type": "code",
   "execution_count": 59,
   "metadata": {},
   "outputs": [],
   "source": [
    "scaled_df['Cluster'] = prediction"
   ]
  },
  {
   "cell_type": "code",
   "execution_count": 60,
   "metadata": {},
   "outputs": [
    {
     "data": {
      "text/html": [
       "<div>\n",
       "<style scoped>\n",
       "    .dataframe tbody tr th:only-of-type {\n",
       "        vertical-align: middle;\n",
       "    }\n",
       "\n",
       "    .dataframe tbody tr th {\n",
       "        vertical-align: top;\n",
       "    }\n",
       "\n",
       "    .dataframe thead th {\n",
       "        text-align: right;\n",
       "    }\n",
       "</style>\n",
       "<table border=\"1\" class=\"dataframe\">\n",
       "  <thead>\n",
       "    <tr style=\"text-align: right;\">\n",
       "      <th></th>\n",
       "      <th>Age</th>\n",
       "      <th>Annual Income</th>\n",
       "      <th>Spending Score</th>\n",
       "      <th>Gender_Male</th>\n",
       "      <th>Cluster</th>\n",
       "    </tr>\n",
       "    <tr>\n",
       "      <th>CustomerID</th>\n",
       "      <th></th>\n",
       "      <th></th>\n",
       "      <th></th>\n",
       "      <th></th>\n",
       "      <th></th>\n",
       "    </tr>\n",
       "  </thead>\n",
       "  <tbody>\n",
       "    <tr>\n",
       "      <th>1</th>\n",
       "      <td>-1.425414</td>\n",
       "      <td>-1.779171</td>\n",
       "      <td>-0.435989</td>\n",
       "      <td>1</td>\n",
       "      <td>3</td>\n",
       "    </tr>\n",
       "    <tr>\n",
       "      <th>2</th>\n",
       "      <td>-1.282367</td>\n",
       "      <td>-1.779171</td>\n",
       "      <td>1.199413</td>\n",
       "      <td>1</td>\n",
       "      <td>3</td>\n",
       "    </tr>\n",
       "    <tr>\n",
       "      <th>3</th>\n",
       "      <td>-1.353890</td>\n",
       "      <td>-1.739447</td>\n",
       "      <td>-1.720949</td>\n",
       "      <td>0</td>\n",
       "      <td>3</td>\n",
       "    </tr>\n",
       "    <tr>\n",
       "      <th>4</th>\n",
       "      <td>-1.139319</td>\n",
       "      <td>-1.739447</td>\n",
       "      <td>1.043661</td>\n",
       "      <td>0</td>\n",
       "      <td>3</td>\n",
       "    </tr>\n",
       "    <tr>\n",
       "      <th>5</th>\n",
       "      <td>-0.567131</td>\n",
       "      <td>-1.699723</td>\n",
       "      <td>-0.397051</td>\n",
       "      <td>0</td>\n",
       "      <td>3</td>\n",
       "    </tr>\n",
       "    <tr>\n",
       "      <th>...</th>\n",
       "      <td>...</td>\n",
       "      <td>...</td>\n",
       "      <td>...</td>\n",
       "      <td>...</td>\n",
       "      <td>...</td>\n",
       "    </tr>\n",
       "    <tr>\n",
       "      <th>194</th>\n",
       "      <td>-0.066466</td>\n",
       "      <td>2.113819</td>\n",
       "      <td>1.588795</td>\n",
       "      <td>0</td>\n",
       "      <td>0</td>\n",
       "    </tr>\n",
       "    <tr>\n",
       "      <th>195</th>\n",
       "      <td>0.577246</td>\n",
       "      <td>2.391890</td>\n",
       "      <td>-1.331567</td>\n",
       "      <td>0</td>\n",
       "      <td>2</td>\n",
       "    </tr>\n",
       "    <tr>\n",
       "      <th>196</th>\n",
       "      <td>-0.281037</td>\n",
       "      <td>2.391890</td>\n",
       "      <td>1.121537</td>\n",
       "      <td>0</td>\n",
       "      <td>0</td>\n",
       "    </tr>\n",
       "    <tr>\n",
       "      <th>197</th>\n",
       "      <td>0.434198</td>\n",
       "      <td>2.630236</td>\n",
       "      <td>-0.864309</td>\n",
       "      <td>0</td>\n",
       "      <td>2</td>\n",
       "    </tr>\n",
       "    <tr>\n",
       "      <th>198</th>\n",
       "      <td>-0.495608</td>\n",
       "      <td>2.630236</td>\n",
       "      <td>0.926846</td>\n",
       "      <td>1</td>\n",
       "      <td>0</td>\n",
       "    </tr>\n",
       "  </tbody>\n",
       "</table>\n",
       "<p>198 rows × 5 columns</p>\n",
       "</div>"
      ],
      "text/plain": [
       "                 Age  Annual Income  Spending Score  Gender_Male  Cluster\n",
       "CustomerID                                                               \n",
       "1          -1.425414      -1.779171       -0.435989            1        3\n",
       "2          -1.282367      -1.779171        1.199413            1        3\n",
       "3          -1.353890      -1.739447       -1.720949            0        3\n",
       "4          -1.139319      -1.739447        1.043661            0        3\n",
       "5          -0.567131      -1.699723       -0.397051            0        3\n",
       "...              ...            ...             ...          ...      ...\n",
       "194        -0.066466       2.113819        1.588795            0        0\n",
       "195         0.577246       2.391890       -1.331567            0        2\n",
       "196        -0.281037       2.391890        1.121537            0        0\n",
       "197         0.434198       2.630236       -0.864309            0        2\n",
       "198        -0.495608       2.630236        0.926846            1        0\n",
       "\n",
       "[198 rows x 5 columns]"
      ]
     },
     "execution_count": 60,
     "metadata": {},
     "output_type": "execute_result"
    }
   ],
   "source": [
    "scaled_df"
   ]
  },
  {
   "cell_type": "code",
   "execution_count": 61,
   "metadata": {},
   "outputs": [
    {
     "data": {
      "text/plain": [
       "251.12066507316686"
      ]
     },
     "execution_count": 61,
     "metadata": {},
     "output_type": "execute_result"
    }
   ],
   "source": [
    "model1.inertia_"
   ]
  },
  {
   "cell_type": "code",
   "execution_count": 62,
   "metadata": {},
   "outputs": [
    {
     "data": {
      "text/plain": [
       "CustomerID\n",
       "1     -1.425414\n",
       "2     -1.282367\n",
       "3     -1.353890\n",
       "4     -1.139319\n",
       "5     -0.567131\n",
       "         ...   \n",
       "194   -0.066466\n",
       "195    0.577246\n",
       "196   -0.281037\n",
       "197    0.434198\n",
       "198   -0.495608\n",
       "Name: Age, Length: 198, dtype: float64"
      ]
     },
     "execution_count": 62,
     "metadata": {},
     "output_type": "execute_result"
    }
   ],
   "source": [
    "scaled_df.Age"
   ]
  },
  {
   "cell_type": "code",
   "execution_count": 63,
   "metadata": {},
   "outputs": [
    {
     "data": {
      "text/plain": [
       "CustomerID\n",
       "1      19\n",
       "2      21\n",
       "3      20\n",
       "4      23\n",
       "5      31\n",
       "       ..\n",
       "194    38\n",
       "195    47\n",
       "196    35\n",
       "197    45\n",
       "198    32\n",
       "Name: Age, Length: 198, dtype: int64"
      ]
     },
     "execution_count": 63,
     "metadata": {},
     "output_type": "execute_result"
    }
   ],
   "source": [
    "df.Age"
   ]
  },
  {
   "cell_type": "code",
   "execution_count": 64,
   "metadata": {},
   "outputs": [
    {
     "data": {
      "text/html": [
       "<div>\n",
       "<style scoped>\n",
       "    .dataframe tbody tr th:only-of-type {\n",
       "        vertical-align: middle;\n",
       "    }\n",
       "\n",
       "    .dataframe tbody tr th {\n",
       "        vertical-align: top;\n",
       "    }\n",
       "\n",
       "    .dataframe thead th {\n",
       "        text-align: right;\n",
       "    }\n",
       "</style>\n",
       "<table border=\"1\" class=\"dataframe\">\n",
       "  <thead>\n",
       "    <tr style=\"text-align: right;\">\n",
       "      <th></th>\n",
       "      <th>Age</th>\n",
       "      <th>Annual Income</th>\n",
       "      <th>Spending Score</th>\n",
       "      <th>Gender_Male</th>\n",
       "      <th>Cluster</th>\n",
       "    </tr>\n",
       "    <tr>\n",
       "      <th>CustomerID</th>\n",
       "      <th></th>\n",
       "      <th></th>\n",
       "      <th></th>\n",
       "      <th></th>\n",
       "      <th></th>\n",
       "    </tr>\n",
       "  </thead>\n",
       "  <tbody>\n",
       "    <tr>\n",
       "      <th>1</th>\n",
       "      <td>19</td>\n",
       "      <td>15</td>\n",
       "      <td>39</td>\n",
       "      <td>Male</td>\n",
       "      <td>3</td>\n",
       "    </tr>\n",
       "    <tr>\n",
       "      <th>2</th>\n",
       "      <td>21</td>\n",
       "      <td>15</td>\n",
       "      <td>81</td>\n",
       "      <td>Male</td>\n",
       "      <td>3</td>\n",
       "    </tr>\n",
       "    <tr>\n",
       "      <th>3</th>\n",
       "      <td>20</td>\n",
       "      <td>16</td>\n",
       "      <td>6</td>\n",
       "      <td>Female</td>\n",
       "      <td>3</td>\n",
       "    </tr>\n",
       "    <tr>\n",
       "      <th>4</th>\n",
       "      <td>23</td>\n",
       "      <td>16</td>\n",
       "      <td>77</td>\n",
       "      <td>Female</td>\n",
       "      <td>3</td>\n",
       "    </tr>\n",
       "    <tr>\n",
       "      <th>5</th>\n",
       "      <td>31</td>\n",
       "      <td>17</td>\n",
       "      <td>40</td>\n",
       "      <td>Female</td>\n",
       "      <td>3</td>\n",
       "    </tr>\n",
       "    <tr>\n",
       "      <th>6</th>\n",
       "      <td>22</td>\n",
       "      <td>17</td>\n",
       "      <td>76</td>\n",
       "      <td>Female</td>\n",
       "      <td>3</td>\n",
       "    </tr>\n",
       "    <tr>\n",
       "      <th>7</th>\n",
       "      <td>35</td>\n",
       "      <td>18</td>\n",
       "      <td>6</td>\n",
       "      <td>Female</td>\n",
       "      <td>1</td>\n",
       "    </tr>\n",
       "    <tr>\n",
       "      <th>8</th>\n",
       "      <td>23</td>\n",
       "      <td>18</td>\n",
       "      <td>94</td>\n",
       "      <td>Female</td>\n",
       "      <td>3</td>\n",
       "    </tr>\n",
       "    <tr>\n",
       "      <th>9</th>\n",
       "      <td>64</td>\n",
       "      <td>19</td>\n",
       "      <td>3</td>\n",
       "      <td>Male</td>\n",
       "      <td>1</td>\n",
       "    </tr>\n",
       "    <tr>\n",
       "      <th>10</th>\n",
       "      <td>30</td>\n",
       "      <td>19</td>\n",
       "      <td>72</td>\n",
       "      <td>Female</td>\n",
       "      <td>3</td>\n",
       "    </tr>\n",
       "  </tbody>\n",
       "</table>\n",
       "</div>"
      ],
      "text/plain": [
       "            Age  Annual Income  Spending Score Gender_Male  Cluster\n",
       "CustomerID                                                         \n",
       "1            19             15              39        Male        3\n",
       "2            21             15              81        Male        3\n",
       "3            20             16               6      Female        3\n",
       "4            23             16              77      Female        3\n",
       "5            31             17              40      Female        3\n",
       "6            22             17              76      Female        3\n",
       "7            35             18               6      Female        1\n",
       "8            23             18              94      Female        3\n",
       "9            64             19               3        Male        1\n",
       "10           30             19              72      Female        3"
      ]
     },
     "execution_count": 64,
     "metadata": {},
     "output_type": "execute_result"
    }
   ],
   "source": [
    "scaled_df.Age = df.Age\n",
    "scaled_df['Annual Income'] = df['Annual Income']\n",
    "scaled_df['Spending Score'] = df['Spending Score']\n",
    "scaled_df['Gender_Male'] = M\n",
    "scaled_df.head(10)"
   ]
  },
  {
   "cell_type": "code",
   "execution_count": 65,
   "metadata": {},
   "outputs": [
    {
     "data": {
      "image/png": "[encoded data removed]",
      "text/plain": [
       "<Figure size 720x360 with 1 Axes>"
      ]
     },
     "metadata": {
      "needs_background": "light"
     },
     "output_type": "display_data"
    }
   ],
   "source": [
    "colours = ListedColormap(['r','b','g', 'y', 'm'])\n",
    "plt.figure(figsize=(10,5))\n",
    "plt.scatter(x = scaled_df.iloc[:,1], y = scaled_df.iloc[:,2], c=scaled_df['Cluster'],cmap='jet', alpha=0.6)\n",
    "#plt.scatter(x = scaled_df.iloc[:,1], y = scaled_df.iloc[:,2], c=scaled_df['Cluster'],cmap=colours)\n",
    "plt.xlabel('Annual Income')\n",
    "plt.ylabel('Spending Score')\n",
    "plt.title('Clusters')\n",
    "plt.show()"
   ]
  },
  {
   "cell_type": "code",
   "execution_count": 66,
   "metadata": {},
   "outputs": [
    {
     "data": {
      "text/html": [
       "<div>\n",
       "<style scoped>\n",
       "    .dataframe tbody tr th:only-of-type {\n",
       "        vertical-align: middle;\n",
       "    }\n",
       "\n",
       "    .dataframe tbody tr th {\n",
       "        vertical-align: top;\n",
       "    }\n",
       "\n",
       "    .dataframe thead th {\n",
       "        text-align: right;\n",
       "    }\n",
       "</style>\n",
       "<table border=\"1\" class=\"dataframe\">\n",
       "  <thead>\n",
       "    <tr style=\"text-align: right;\">\n",
       "      <th></th>\n",
       "      <th>Age</th>\n",
       "      <th>Annual Income</th>\n",
       "      <th>Spending Score</th>\n",
       "      <th>Cluster</th>\n",
       "    </tr>\n",
       "  </thead>\n",
       "  <tbody>\n",
       "    <tr>\n",
       "      <th>count</th>\n",
       "      <td>198.000000</td>\n",
       "      <td>198.000000</td>\n",
       "      <td>198.000000</td>\n",
       "      <td>198.000000</td>\n",
       "    </tr>\n",
       "    <tr>\n",
       "      <th>mean</th>\n",
       "      <td>38.929293</td>\n",
       "      <td>59.787879</td>\n",
       "      <td>50.196970</td>\n",
       "      <td>1.570707</td>\n",
       "    </tr>\n",
       "    <tr>\n",
       "      <th>std</th>\n",
       "      <td>14.016852</td>\n",
       "      <td>25.237259</td>\n",
       "      <td>25.746846</td>\n",
       "      <td>1.104927</td>\n",
       "    </tr>\n",
       "    <tr>\n",
       "      <th>min</th>\n",
       "      <td>18.000000</td>\n",
       "      <td>15.000000</td>\n",
       "      <td>1.000000</td>\n",
       "      <td>0.000000</td>\n",
       "    </tr>\n",
       "    <tr>\n",
       "      <th>25%</th>\n",
       "      <td>28.250000</td>\n",
       "      <td>40.500000</td>\n",
       "      <td>35.000000</td>\n",
       "      <td>1.000000</td>\n",
       "    </tr>\n",
       "    <tr>\n",
       "      <th>50%</th>\n",
       "      <td>36.000000</td>\n",
       "      <td>61.000000</td>\n",
       "      <td>50.000000</td>\n",
       "      <td>1.000000</td>\n",
       "    </tr>\n",
       "    <tr>\n",
       "      <th>75%</th>\n",
       "      <td>49.000000</td>\n",
       "      <td>77.750000</td>\n",
       "      <td>72.750000</td>\n",
       "      <td>3.000000</td>\n",
       "    </tr>\n",
       "    <tr>\n",
       "      <th>max</th>\n",
       "      <td>70.000000</td>\n",
       "      <td>126.000000</td>\n",
       "      <td>99.000000</td>\n",
       "      <td>3.000000</td>\n",
       "    </tr>\n",
       "  </tbody>\n",
       "</table>\n",
       "</div>"
      ],
      "text/plain": [
       "              Age  Annual Income  Spending Score     Cluster\n",
       "count  198.000000     198.000000      198.000000  198.000000\n",
       "mean    38.929293      59.787879       50.196970    1.570707\n",
       "std     14.016852      25.237259       25.746846    1.104927\n",
       "min     18.000000      15.000000        1.000000    0.000000\n",
       "25%     28.250000      40.500000       35.000000    1.000000\n",
       "50%     36.000000      61.000000       50.000000    1.000000\n",
       "75%     49.000000      77.750000       72.750000    3.000000\n",
       "max     70.000000     126.000000       99.000000    3.000000"
      ]
     },
     "execution_count": 66,
     "metadata": {},
     "output_type": "execute_result"
    }
   ],
   "source": [
    "scaled_df.describe()"
   ]
  },
  {
   "cell_type": "code",
   "execution_count": 67,
   "metadata": {},
   "outputs": [],
   "source": [
    "scaled_df_cluster = scaled_df.groupby('Cluster').mean()\n",
    "scaled_df_cluster['frequency'] = scaled_df['Cluster'].value_counts().sort_index()"
   ]
  },
  {
   "cell_type": "code",
   "execution_count": 68,
   "metadata": {},
   "outputs": [
    {
     "data": {
      "text/html": [
       "<div>\n",
       "<style scoped>\n",
       "    .dataframe tbody tr th:only-of-type {\n",
       "        vertical-align: middle;\n",
       "    }\n",
       "\n",
       "    .dataframe tbody tr th {\n",
       "        vertical-align: top;\n",
       "    }\n",
       "\n",
       "    .dataframe thead th {\n",
       "        text-align: right;\n",
       "    }\n",
       "</style>\n",
       "<table border=\"1\" class=\"dataframe\">\n",
       "  <thead>\n",
       "    <tr style=\"text-align: right;\">\n",
       "      <th></th>\n",
       "      <th>Age</th>\n",
       "      <th>Annual Income</th>\n",
       "      <th>Spending Score</th>\n",
       "      <th>frequency</th>\n",
       "    </tr>\n",
       "    <tr>\n",
       "      <th>Cluster</th>\n",
       "      <th></th>\n",
       "      <th></th>\n",
       "      <th></th>\n",
       "      <th></th>\n",
       "    </tr>\n",
       "  </thead>\n",
       "  <tbody>\n",
       "    <tr>\n",
       "      <th>0</th>\n",
       "      <td>32.948718</td>\n",
       "      <td>84.794872</td>\n",
       "      <td>81.487179</td>\n",
       "      <td>39</td>\n",
       "    </tr>\n",
       "    <tr>\n",
       "      <th>1</th>\n",
       "      <td>53.906250</td>\n",
       "      <td>47.343750</td>\n",
       "      <td>40.421875</td>\n",
       "      <td>64</td>\n",
       "    </tr>\n",
       "    <tr>\n",
       "      <th>2</th>\n",
       "      <td>40.078947</td>\n",
       "      <td>84.763158</td>\n",
       "      <td>19.394737</td>\n",
       "      <td>38</td>\n",
       "    </tr>\n",
       "    <tr>\n",
       "      <th>3</th>\n",
       "      <td>25.438596</td>\n",
       "      <td>40.000000</td>\n",
       "      <td>60.298246</td>\n",
       "      <td>57</td>\n",
       "    </tr>\n",
       "  </tbody>\n",
       "</table>\n",
       "</div>"
      ],
      "text/plain": [
       "               Age  Annual Income  Spending Score  frequency\n",
       "Cluster                                                     \n",
       "0        32.948718      84.794872       81.487179         39\n",
       "1        53.906250      47.343750       40.421875         64\n",
       "2        40.078947      84.763158       19.394737         38\n",
       "3        25.438596      40.000000       60.298246         57"
      ]
     },
     "execution_count": 68,
     "metadata": {},
     "output_type": "execute_result"
    }
   ],
   "source": [
    "scaled_df_cluster.head(10)"
   ]
  },
  {
   "cell_type": "markdown",
   "metadata": {},
   "source": [
    "** The conclusions from the above observations are as below : **\n",
    "\n",
    "- The cluster having people with average age 33 have very high annual income and high spending score. This cluster consists of 39 customers\n",
    "\n",
    "- The cluster having people with average age 54 have moderate annual income and reasonably moderate spending score. This cluster consists of 64 customers\n",
    "\n",
    "- The cluster having people with average age 40 have very high annual income and very low spending score. This cluster consists of 38 customers\n",
    "\n",
    "- The cluster having people with average age 25 have reasonably moderate annual income and high spending score. This cluster consists of 57 customers"
   ]
  },
  {
   "cell_type": "code",
   "execution_count": null,
   "metadata": {},
   "outputs": [],
   "source": []
  }
 ],
 "metadata": {
  "kernelspec": {
   "display_name": "Python 3",
   "language": "python",
   "name": "python3"
  },
  "language_info": {
   "codemirror_mode": {
    "name": "ipython",
    "version": 3
   },
   "file_extension": ".py",
   "mimetype": "text/x-python",
   "name": "python",
   "nbconvert_exporter": "python",
   "pygments_lexer": "ipython3",
   "version": "3.8.3"
  }
 },
 "nbformat": 4,
 "nbformat_minor": 4
}
